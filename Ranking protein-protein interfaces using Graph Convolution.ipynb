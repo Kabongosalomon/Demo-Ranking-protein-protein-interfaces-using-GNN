{
 "cells": [
  {
   "cell_type": "markdown",
   "id": "6f137f93",
   "metadata": {},
   "source": [
    "# Demo for ranking protein-protein interface using Graph Convolution"
   ]
  },
  {
   "cell_type": "markdown",
   "id": "c6ee0e26",
   "metadata": {},
   "source": [
    "## Project setup"
   ]
  },
  {
   "cell_type": "code",
   "execution_count": null,
   "id": "b4218de3",
   "metadata": {},
   "outputs": [],
   "source": [
    "# Copying data and code from GitHub repository\n",
    "!git clone https://github.com/withai/Demo-Ranking-protein-protein-interfaces-using-GNN.git\n",
    "!mv Demo-Ranking-protein-protein-interfaces-using-GNN/* .\n",
    "!rm -r Demo-Ranking-protein-protein-interfaces-using-GNN"
   ]
  },
  {
   "cell_type": "markdown",
   "id": "ffbac141",
   "metadata": {},
   "source": [
    "## Import libraries"
   ]
  },
  {
   "cell_type": "code",
   "execution_count": 1,
   "id": "6d89e241",
   "metadata": {},
   "outputs": [],
   "source": [
    "# Import PyTorch\n",
    "import torch\n",
    "import torch.backends.cudnn as cudnn\n",
    "from torch.utils import data\n",
    "import torch.nn.functional as F\n",
    "import torch.nn as nn\n",
    "import torch.optim as optim\n",
    "from torch.utils import data\n",
    "import torch.nn.init as init\n",
    "\n",
    "# Import Neural Network layer\n",
    "from nn import Dense\n",
    "\n",
    "# Import utility functions\n",
    "from dataset import Dataset\n",
    "from sampler import CustomSampler\n",
    "from train import train\n",
    "from test import test\n",
    "\n",
    "# Import libraries for graphing\n",
    "import pandas as pd\n",
    "import matplotlib\n",
    "%matplotlib inline\n",
    "\n"
   ]
  },
  {
   "cell_type": "markdown",
   "id": "3cb4db1a",
   "metadata": {},
   "source": [
    "## Run computation on GPU or CPU"
   ]
  },
  {
   "cell_type": "code",
   "execution_count": 2,
   "id": "5ca523ac",
   "metadata": {
    "scrolled": true
   },
   "outputs": [],
   "source": [
    "use_cuda = torch.cuda.is_available()\n",
    "device = torch.device(\"cuda:0\" if use_cuda else \"cpu\")\n",
    "torch.autograd.set_detect_anomaly(True)\n",
    "cudnn.benchmark = True"
   ]
  },
  {
   "cell_type": "markdown",
   "id": "039ba253",
   "metadata": {},
   "source": [
    "## Define Graph Convolution layer"
   ]
  },
  {
   "cell_type": "markdown",
   "id": "34e5920f",
   "metadata": {},
   "source": [
    "$$\n",
    "h^{(l)}_i = \\sigma \\left(\\mathbf{W}^{(l)}_c h^{(l-1)}_i +\n",
    "    \\frac{1}{|N_i^{(int)}|}\\sum_{j \\epsilon N_i^{(int)}} \\mathbf{W}^{(l)}_{int} h^{(l-1)}_j \\bigodot E_{ij} \\right.  \\left. + \\frac{1}{|N_i^{(prot)}|}\\sum_{j \\epsilon N_i^{(prot)}} \\mathbf{W}^{(l)}_{prot} h^{(l-1)}_j \\bigodot E_{ij} + b^{(l)} \\vphantom{\\frac{1}{|N_i^{(neigh)}|}}\\right)\n",
    "$$\n",
    "\n",
    "\n",
    "where for the layer $l$,  \n",
    "\n",
    "$\\mathbf{W}^{(l)}_c$ is the weight matrix for learning representations w.r.t central node,\n",
    "\n",
    "$\\mathbf{W}^{(l)}_{int}$ and $\\mathbf{W}^{(l)}_{prot}$ are the weight matrix for learning representations w.r.t the neighbor nodes in the interface graph and the protein graph respectively,\n",
    "\n",
    "$b^{(l)}$ is the bias vector, \n",
    "\n",
    "$h^{(l)}_i$ is the hidden node embedding of node $i$,\n",
    "\n",
    "$N_i^{(int)}$ is the number of atoms surrounding node $i$ in the interface graph, \n",
    "\n",
    "$N_i^{(prot)}$ is the number of atoms surrounding node $i$ in the protein graph, \n",
    "\n",
    "$\\sigma$  is the activation function, and\n",
    "\n",
    "$E_{ij}$ is the value in the edge matrix between node $i$ and node $j$."
   ]
  },
  {
   "cell_type": "code",
   "execution_count": 3,
   "id": "826c61bd",
   "metadata": {},
   "outputs": [],
   "source": [
    "class GCN_layer(nn.Module):\n",
    "\n",
    "    def __init__(self, v_feats, filters, dropout=0.1, bias=True, trainable=True, **kwargs):\n",
    "\n",
    "        super(GCN_layer, self).__init__()\n",
    "\n",
    "        self.v_feats = v_feats\n",
    "        self.filters = filters\n",
    "        self.dropout= dropout\n",
    "        self.bias = bias\n",
    "        self.trainable = trainable\n",
    "        \n",
    "        use_cuda = torch.cuda.is_available()\n",
    "        self.device = torch.device(\"cuda:0\" if use_cuda else \"cpu\")\n",
    "        \n",
    "        # Define non-linear function\n",
    "        self.non_lin = nn.LeakyReLU()\n",
    "\n",
    "        # Initialize dropout\n",
    "        self.drop_layer = nn.Dropout(p=self.dropout)\n",
    "       \n",
    "        # Initialize learnable parameters\n",
    "        self.Wvc = nn.Parameter(\n",
    "                    init.kaiming_uniform_(\n",
    "                        torch.randn(self.v_feats, self.filters, requires_grad=self.trainable))\n",
    "                            .type(torch.float).to(self.device))  # (v_dims, filters)\n",
    "        self.Wvn_int = nn.Parameter(\n",
    "                        init.kaiming_uniform_(\n",
    "                            torch.randn(self.v_feats, self.filters, requires_grad=self.trainable))\n",
    "                                .type(torch.float).to(self.device))  # (v_dims, filters)\n",
    "        self.Wvn_prot = nn.Parameter(\n",
    "                        init.kaiming_uniform_(\n",
    "                            torch.randn(self.v_feats, self.filters, requires_grad=self.trainable))\n",
    "                                .type(torch.float).to(self.device))  # (v_dims, filters)\n",
    "        self.bv = nn.Parameter(\n",
    "                        torch.zeros(self.filters, requires_grad=self.trainable)\n",
    "                            .type(torch.float).to(self.device))\n",
    "        \n",
    "        \n",
    "    def forward(self, x):\n",
    "\n",
    "        vertices, prot_indices, int_indices, prot_edges, int_edges = x\n",
    "\n",
    "        # generate vertex signals\n",
    "        Zc = torch.matmul(vertices, self.Wvc)  # (n_verts, filters)\n",
    "\n",
    "        # create neighbor signals\n",
    "        v_Wvn_int = torch.matmul(vertices, self.Wvn_int)  # (n_verts, filters)\n",
    "        v_Wvn_prot = torch.matmul(vertices, self.Wvn_prot)  # (n_verts, filters)\n",
    "        \n",
    "        # Find participating neighbors of the interface and protein graph in Graph Convolution \n",
    "        int_part = torch.unsqueeze(int_indices > -1, 2).type(torch.float)\n",
    "        prot_part = torch.unsqueeze(prot_indices > -1, 2).type(torch.float)\n",
    "\n",
    "        # Find the number of neighbors per atom\n",
    "        no_of_neighs_int = torch.sum(int_indices > -1, 1).unsqueeze(1).to(self.device).type(torch.float)\n",
    "        no_of_neighs_prot = torch.sum(prot_indices > -1, 1).unsqueeze(1).to(self.device).type(torch.float)\n",
    "        no_of_neighs_int[no_of_neighs_int == 0] = 1\n",
    "        no_of_neighs_prot[no_of_neighs_prot == 0] = 1\n",
    "        \n",
    "        # Expand interface and neighborh edge matrices to allow scalar multiplication\n",
    "        if(len(int_edges.size()) != 3):\n",
    "            int_edges = torch.unsqueeze(int_edges, 2)\n",
    "            prot_edges = torch.unsqueeze(prot_edges, 2)\n",
    "\n",
    "        # Generate neighbor signals w.r.t the interface and protein graph\n",
    "        Zn_inter = torch.sum(v_Wvn_int[int_indices] * int_part * int_edges, 1) / no_of_neighs_int\n",
    "        Zn_prot = torch.sum(v_Wvn_prot[prot_indices] * prot_part * prot_edges, 1) / no_of_neighs_prot\n",
    "\n",
    "        # Combine central and neighbor signals\n",
    "        Z = Zc + Zn_inter + Zn_prot\n",
    "\n",
    "        # Add bias\n",
    "        if self.bias:\n",
    "            Z += self.bv\n",
    "\n",
    "        # Apply activation function\n",
    "        h = self.non_lin(Z)\n",
    "\n",
    "        # Apply dropout\n",
    "        if self.dropout:\n",
    "            h = self.drop_layer(h)\n",
    "\n",
    "\n",
    "        return [h, prot_indices, int_indices, prot_edges, int_edges]"
   ]
  },
  {
   "cell_type": "markdown",
   "id": "d029d4b4",
   "metadata": {},
   "source": [
    "## Define Graph Neural network"
   ]
  },
  {
   "cell_type": "code",
   "execution_count": 4,
   "id": "f3f6b4de",
   "metadata": {},
   "outputs": [],
   "source": [
    "class GNN(torch.nn.Module):\n",
    "    \"\"\"\n",
    "        GCN + Normalize pool + L1-loss + Single label\n",
    "    \"\"\"\n",
    "    def __init__(self):\n",
    "        super(GNN, self).__init__()\n",
    "\n",
    "        # Define neural network layers\n",
    "        self.conv1 = GCN_layer(v_feats=11, filters=16, dropout=0.1)\n",
    "        self.conv2 = GCN_layer(v_feats=16, filters=32, dropout=0.1)\n",
    "        self.conv3 = GCN_layer(v_feats=32, filters=64, dropout=0.1)\n",
    "        self.dense = Dense(in_dims=64, out_dims=1, nonlin=\"linear\")\n",
    "\n",
    "        # Define optimizer\n",
    "        self.optimizer = optim.Adam(self.parameters(), lr=0.01, weight_decay=0.0001)\n",
    "\n",
    "    def forward(self, x):\n",
    "        \n",
    "        # GCN layers\n",
    "        x = self.conv1(x)\n",
    "        x = self.conv2(x)\n",
    "        x = self.conv3(x)\n",
    "        x = x[0]\n",
    "        # each row of x is now a feature vector.\n",
    "\n",
    "        # Graph pooling\n",
    "        x = torch.sum(x, 0).view(1, -1)\n",
    "        x = F.normalize(x)\n",
    "\n",
    "        # Dense layer\n",
    "        x = self.dense(x)\n",
    "        x = torch.squeeze(x, 1)\n",
    "\n",
    "        return x\n",
    "\n",
    "    def loss(self, output, target, reduction='mean'):\n",
    "        # Define loss function\n",
    "        return F.l1_loss(output, target, reduction=reduction)"
   ]
  },
  {
   "cell_type": "markdown",
   "id": "710e09f6",
   "metadata": {},
   "source": [
    "## Initialize Graph Neural Network"
   ]
  },
  {
   "cell_type": "code",
   "execution_count": 5,
   "id": "c67b07c0",
   "metadata": {},
   "outputs": [],
   "source": [
    "model = GNN().to(device)"
   ]
  },
  {
   "cell_type": "markdown",
   "id": "eec8f9e8",
   "metadata": {},
   "source": [
    "## Initialize PyTorch data loader and data sampler"
   ]
  },
  {
   "cell_type": "code",
   "execution_count": 6,
   "id": "7fb132c1",
   "metadata": {},
   "outputs": [
    {
     "name": "stdout",
     "output_type": "stream",
     "text": [
      "No. of train complexes: 3\n",
      "No. of test complexes: 2\n"
     ]
    }
   ],
   "source": [
    "dataset_path = \"data\"\n",
    "\n",
    "# Train dataset generator \n",
    "train_dataset = Dataset(dataset_path, \"train\")\n",
    "train_params = {'sampler': CustomSampler(batch_complexes = 2,\n",
    "                                   decoys_per_complex = 50,\n",
    "                                   dataset_path = dataset_path,\n",
    "                                   dataset_cat = \"train\",\n",
    "                                   random_sample = True),\n",
    "          'num_workers': 0,\n",
    "          'collate_fn' : lambda x: x[0]}\n",
    "training_generator = data.DataLoader(train_dataset, **train_params)\n",
    "\n",
    "# Test dataset generator\n",
    "test_dataset = Dataset(dataset_path, \"test\")\n",
    "test_params = {'sampler': CustomSampler(batch_complexes = 2,\n",
    "                                   decoys_per_complex = 50,\n",
    "                                   dataset_path = dataset_path,\n",
    "                                   dataset_cat = \"test\"),\n",
    "          'num_workers': 0,\n",
    "          'collate_fn' : lambda x: x[0]}\n",
    "test_generator = data.DataLoader(test_dataset, **test_params)"
   ]
  },
  {
   "cell_type": "markdown",
   "id": "9819549a",
   "metadata": {},
   "source": [
    "## Train model"
   ]
  },
  {
   "cell_type": "code",
   "execution_count": 7,
   "id": "e0d59a1f",
   "metadata": {},
   "outputs": [
    {
     "name": "stdout",
     "output_type": "stream",
     "text": [
      "Epoch 1 loss : 1.5888511389493942\n",
      "Epoch 2 loss : 0.3112610727548599\n",
      "Epoch 3 loss : 0.3098634332418442\n",
      "Epoch 4 loss : 0.23634936660528183\n",
      "Epoch 5 loss : 0.5406454056501389\n",
      "Epoch 6 loss : 0.4504081755876541\n",
      "Epoch 7 loss : 0.21604672446846962\n",
      "Epoch 8 loss : 0.4753987193107605\n",
      "Epoch 9 loss : 0.30255285650491714\n",
      "Epoch 10 loss : 0.14869529753923416\n"
     ]
    }
   ],
   "source": [
    "epochs = 10\n",
    "mini_batches_per_epoch = 30\n",
    "\n",
    "loss = []\n",
    "\n",
    "for epoch in range(0, epochs):\n",
    "    \n",
    "    loss_ = train(model, device, training_generator, model.optimizer, epoch, mini_batches_per_epoch)\n",
    "    \n",
    "    loss.append(loss_)\n",
    "    \n",
    "    print(\"Epoch \" + str(epoch+1)+ \" loss : \" + str(loss_))\n",
    "    "
   ]
  },
  {
   "cell_type": "markdown",
   "id": "4e40c945",
   "metadata": {},
   "source": [
    "## Plot loss function"
   ]
  },
  {
   "cell_type": "code",
   "execution_count": 8,
   "id": "0bd7e019",
   "metadata": {},
   "outputs": [
    {
     "data": {
      "image/png": "[encoded data removed]",
      "text/plain": [
       "<Figure size 432x288 with 1 Axes>"
      ]
     },
     "metadata": {
      "needs_background": "light"
     },
     "output_type": "display_data"
    }
   ],
   "source": [
    "epoch_list = list(range(1, epochs+1))\n",
    "epoch_losses = list(zip(epoch_list, loss))\n",
    "\n",
    "loss_df = pd.DataFrame(epoch_losses, columns=[\"Epoch\", \"Train loss\"])\n",
    "\n",
    "lines = loss_df.plot.line(x=\"Epoch\", y=\"Train loss\")\n"
   ]
  },
  {
   "cell_type": "markdown",
   "id": "9d41fe96",
   "metadata": {},
   "source": [
    "## Test model"
   ]
  },
  {
   "cell_type": "code",
   "execution_count": 9,
   "id": "374da1da",
   "metadata": {},
   "outputs": [
    {
     "name": "stdout",
     "output_type": "stream",
     "text": [
      "Number of complexes in the test set for which the decoys above a DockQ value of 0.65 are ranked in the top-n\n",
      "Total number of complexes in test set: 2\n",
      "\n",
      "Top 1 : 2 complexes\n",
      "Top 5 : 2 complexes\n",
      "Top 10 : 2 complexes\n",
      "Top 20 : 2 complexes\n",
      "Top 50 : 2 complexes\n"
     ]
    }
   ],
   "source": [
    "dockq_threshold = 0.65\n",
    "top_ns = [1, 5, 10, 20, 50]\n",
    "\n",
    "top_n_results = test(model, device, test_generator, dockq_threshold, top_ns)\n",
    "\n",
    "\n",
    "\n",
    "print(\"Number of complexes in the test set for which the decoys above a DockQ value of \" + str(dockq_threshold) + \n",
    "      \" are ranked in the top-n\")\n",
    "print(\"Total number of complexes in test set: \" + str(len(test_dataset)) + \"\\n\")\n",
    "for i in range(len(top_ns)):\n",
    "    print(\"Top \" + str(top_ns[i]) + \" : \" + str(top_n_results[i]) + \" complexes\")\n",
    "    "
   ]
  },
  {
   "cell_type": "code",
   "execution_count": null,
   "id": "c0df1d1a",
   "metadata": {},
   "outputs": [],
   "source": []
  }
 ],
 "metadata": {
  "kernelspec": {
   "display_name": "Python 3",
   "language": "python",
   "name": "python3"
  },
  "language_info": {
   "codemirror_mode": {
    "name": "ipython",
    "version": 3
   },
   "file_extension": ".py",
   "mimetype": "text/x-python",
   "name": "python",
   "nbconvert_exporter": "python",
   "pygments_lexer": "ipython3",
   "version": "3.6.8"
  }
 },
 "nbformat": 4,
 "nbformat_minor": 5
}
