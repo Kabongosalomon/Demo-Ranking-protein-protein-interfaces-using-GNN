{
 "cells": [
  {
   "cell_type": "markdown",
   "id": "6f137f93",
   "metadata": {},
   "source": [
    "# Demo for ranking protein-protein interfaces using Graph Convolution"
   ]
  },
  {
   "cell_type": "markdown",
   "id": "c6ee0e26",
   "metadata": {},
   "source": [
    "## Project setup"
   ]
  },
  {
   "cell_type": "code",
   "execution_count": null,
   "id": "b4218de3",
   "metadata": {},
   "outputs": [],
   "source": [
    "# Copying data and code from GitHub repository\n",
    "!git clone https://github.com/withai/Demo-Ranking-protein-protein-interfaces-using-GNN.git\n",
    "!mv Demo-Ranking-protein-protein-interfaces-using-GNN/* .\n",
    "!rm -r Demo-Ranking-protein-protein-interfaces-using-GNN"
   ]
  },
  {
   "cell_type": "markdown",
   "id": "ffbac141",
   "metadata": {},
   "source": [
    "## Import libraries"
   ]
  },
  {
   "cell_type": "code",
   "execution_count": 1,
   "id": "6d89e241",
   "metadata": {},
   "outputs": [],
   "source": [
    "# Import PyTorch\n",
    "import torch\n",
    "import torch.backends.cudnn as cudnn\n",
    "from torch.utils import data\n",
    "import torch.nn.functional as F\n",
    "import torch.nn as nn\n",
    "import torch.optim as optim\n",
    "from torch.utils import data\n",
    "import torch.nn.init as init\n",
    "\n",
    "# Import Neural Network layer\n",
    "from nn import Dense\n",
    "\n",
    "# Import utility functions\n",
    "from dataset import Dataset\n",
    "from sampler import CustomSampler\n",
    "from train import train\n",
    "from test import test\n",
    "\n",
    "# Import libraries for graphing\n",
    "import pandas as pd\n",
    "import numpy as np\n",
    "from graph import show_results\n",
    "import matplotlib.pyplot as plt\n",
    "%matplotlib inline\n",
    "\n"
   ]
  },
  {
   "cell_type": "markdown",
   "id": "3cb4db1a",
   "metadata": {},
   "source": [
    "## Run computation on GPU or CPU"
   ]
  },
  {
   "cell_type": "code",
   "execution_count": 2,
   "id": "5ca523ac",
   "metadata": {
    "scrolled": true
   },
   "outputs": [],
   "source": [
    "use_cuda = torch.cuda.is_available()\n",
    "device = torch.device(\"cuda:0\" if use_cuda else \"cpu\")"
   ]
  },
  {
   "cell_type": "markdown",
   "id": "039ba253",
   "metadata": {},
   "source": [
    "## Define Graph Convolution layer"
   ]
  },
  {
   "cell_type": "markdown",
   "id": "34e5920f",
   "metadata": {},
   "source": [
    "$$\n",
    "h^{(l)}_i = \\sigma \\left(\\mathbf{W}^{(l)}_c h^{(l-1)}_i +\n",
    "    \\frac{1}{|N_i^{(int)}|}\\sum_{j \\epsilon N_i^{(int)}} \\mathbf{W}^{(l)}_{int} h^{(l-1)}_j \\bigodot E_{ij} \\right.  \\left. + \\frac{1}{|N_i^{(prot)}|}\\sum_{j \\epsilon N_i^{(prot)}} \\mathbf{W}^{(l)}_{prot} h^{(l-1)}_j \\bigodot E_{ij} + b^{(l)} \\vphantom{\\frac{1}{|N_i^{(neigh)}|}}\\right)\n",
    "$$\n",
    "\n",
    "\n",
    "where for the layer $l$,  \n",
    "\n",
    "$\\mathbf{W}^{(l)}_c$ is the weight matrix for learning representations w.r.t central node,\n",
    "\n",
    "$\\mathbf{W}^{(l)}_{int}$ and $\\mathbf{W}^{(l)}_{prot}$ are the weight matrix for learning representations w.r.t the neighbor nodes in the interface graph and the protein graph respectively,\n",
    "\n",
    "$b^{(l)}$ is the bias vector, \n",
    "\n",
    "$h^{(l)}_i$ is the hidden node embedding of node $i$,\n",
    "\n",
    "$N_i^{(int)}$ is the number of atoms surrounding node $i$ in the interface graph, \n",
    "\n",
    "$N_i^{(prot)}$ is the number of atoms surrounding node $i$ in the protein graph, \n",
    "\n",
    "$\\sigma$  is the activation function, and\n",
    "\n",
    "$E_{ij}$ is the value in the edge matrix between node $i$ and node $j$."
   ]
  },
  {
   "cell_type": "markdown",
   "id": "0acd3872",
   "metadata": {},
   "source": [
    "### How does computing neighborhood signals look like in the code?\n",
    "\n",
    "Let's compute neighborhood signals in the interface graph\n",
    "\n",
    "$\n",
    "\\begin{align}\n",
    "\\frac{1}{|N_i^{(int)}|}\\sum_{j \\epsilon N_i^{(int)}} \\mathbf{W}^{(l)}_{int} h^{(l-1)}_j \\bigodot E_{ij} \n",
    "\\end{align}\n",
    "$"
   ]
  },
  {
   "cell_type": "markdown",
   "id": "62c3f487",
   "metadata": {},
   "source": [
    "**Define all the variables**"
   ]
  },
  {
   "cell_type": "code",
   "execution_count": 3,
   "id": "65a0759a",
   "metadata": {},
   "outputs": [],
   "source": [
    "# node features: One-hot encoding of 11 different atom types\n",
    "node_feat = torch.tensor([\n",
    "                            [0, 1, 0, 0, 0, 0, 0, 0, 0, 0, 0], # atom 1\n",
    "                            [0, 0, 0, 0, 0, 0, 0, 0, 0, 0, 1], # atom 2\n",
    "                            [0, 0, 0, 0, 1, 0, 0, 0, 0, 0, 0], # atom 3\n",
    "                            [1, 0, 0, 0, 0, 0, 0, 0, 0, 0, 0], # atom 4 \n",
    "                        ]).type(torch.float)\n",
    "\n",
    "# indices of neighbor atoms in interface graph\n",
    "int_indices = torch.tensor([\n",
    "                            [1, 2, -1],  # neighbors of atom 1\n",
    "                            [0, -1, -1], # neighbors of atom 2\n",
    "                            [1, -1, -1], # neighbors of atom 3\n",
    "                            [-1, -1, -1] # neighbors of atom 4\n",
    "                          ])\n",
    "\n",
    "# edge weights of neighbor atoms in interface graph\n",
    "int_edges = torch.tensor([\n",
    "                            [0.9, 0.2, -1], # weights of neighbors of atom 1\n",
    "                            [0.1, -1, -1],  # weights of neighbors of atom 2\n",
    "                            [0.5, -1, -1],  # weights of neighbors of atom 3\n",
    "                            [-1, -1, -1]    # weights of neighbors of atom 4\n",
    "                        ])\n",
    "\n",
    "# weight matrix\n",
    "num_of_features = 11\n",
    "filters = 16\n",
    "\n",
    "w_int = torch.randn(num_of_features, filters)\n"
   ]
  },
  {
   "cell_type": "markdown",
   "id": "3f5c4bd2",
   "metadata": {},
   "source": [
    "**Step 1: Compute signals for all the nodes in the graph**"
   ]
  },
  {
   "cell_type": "code",
   "execution_count": 4,
   "id": "83d73ead",
   "metadata": {},
   "outputs": [
    {
     "name": "stdout",
     "output_type": "stream",
     "text": [
      "torch.Size([4, 16])\n",
      "tensor([[-0.3941, -1.2574, -0.6091,  1.0736, -0.9058, -1.7475,  0.9353, -0.2424,\n",
      "          0.6113,  0.5230,  0.2550, -0.2047, -1.3506,  0.5298, -0.4015,  0.0150],\n",
      "        [ 1.6465,  0.4131,  0.0321,  0.8855, -0.2912,  0.7838, -0.4488, -1.3473,\n",
      "         -1.0906,  1.0139,  0.4203,  0.1642,  1.2011, -0.7894,  0.6780,  0.8977],\n",
      "        [-0.9270, -0.7774, -1.2629,  1.7078,  0.5497,  1.8573, -0.0765,  0.0360,\n",
      "          2.3269, -2.7075, -1.7738,  0.1427, -0.0294, -0.2745,  0.2629, -0.5668],\n",
      "        [ 0.0925,  0.8056, -0.4443,  0.7264, -0.4592, -0.4714, -0.8235,  0.0877,\n",
      "          0.3983,  0.3654,  1.1938, -0.9651, -0.7113,  0.4504,  0.0540,  1.1967]])\n"
     ]
    }
   ],
   "source": [
    "node_Wn_int = torch.matmul(node_feat, w_int)\n",
    "\n",
    "print(node_Wn_int.shape)\n",
    "print(node_Wn_int)"
   ]
  },
  {
   "cell_type": "markdown",
   "id": "4885a83b",
   "metadata": {},
   "source": [
    "**Step 2: Find all the neighbors of atoms that are participating in the interface graph**"
   ]
  },
  {
   "cell_type": "code",
   "execution_count": 5,
   "id": "52a4f8d7",
   "metadata": {},
   "outputs": [
    {
     "name": "stdout",
     "output_type": "stream",
     "text": [
      "torch.Size([4, 3, 1])\n",
      "tensor([[[1.],\n",
      "         [1.],\n",
      "         [0.]],\n",
      "\n",
      "        [[1.],\n",
      "         [0.],\n",
      "         [0.]],\n",
      "\n",
      "        [[1.],\n",
      "         [0.],\n",
      "         [0.]],\n",
      "\n",
      "        [[0.],\n",
      "         [0.],\n",
      "         [0.]]])\n"
     ]
    }
   ],
   "source": [
    "int_part = torch.unsqueeze(int_indices > -1, 2).type(torch.float)\n",
    "\n",
    "print(int_part.shape)\n",
    "print(int_part)"
   ]
  },
  {
   "cell_type": "markdown",
   "id": "da652e32",
   "metadata": {},
   "source": [
    "**Step 3: For each atom find the number of neighbors participating in the graph**"
   ]
  },
  {
   "cell_type": "code",
   "execution_count": 6,
   "id": "70d29ea0",
   "metadata": {},
   "outputs": [
    {
     "name": "stdout",
     "output_type": "stream",
     "text": [
      "torch.Size([4, 1])\n",
      "tensor([[2],\n",
      "        [1],\n",
      "        [1],\n",
      "        [0]])\n"
     ]
    }
   ],
   "source": [
    "no_of_neighs_int = torch.sum(int_indices > -1, 1).unsqueeze(1)\n",
    "\n",
    "print(no_of_neighs_int.shape)\n",
    "print(no_of_neighs_int)"
   ]
  },
  {
   "cell_type": "markdown",
   "id": "e5519efa",
   "metadata": {},
   "source": [
    "**Step 4a: Make sure we don't divide by zeros**"
   ]
  },
  {
   "cell_type": "code",
   "execution_count": 7,
   "id": "b7863a54",
   "metadata": {},
   "outputs": [
    {
     "name": "stdout",
     "output_type": "stream",
     "text": [
      "torch.Size([4, 1])\n",
      "tensor([[2],\n",
      "        [1],\n",
      "        [1],\n",
      "        [1]])\n"
     ]
    }
   ],
   "source": [
    "no_of_neighs_int[no_of_neighs_int == 0] = 1\n",
    "\n",
    "print(no_of_neighs_int.shape)\n",
    "print(no_of_neighs_int)"
   ]
  },
  {
   "cell_type": "markdown",
   "id": "81a1d729",
   "metadata": {},
   "source": [
    "**Step 4b: Expand the dimension of edge weights to allow scalar multiplication**"
   ]
  },
  {
   "cell_type": "code",
   "execution_count": 8,
   "id": "5c0c95b8",
   "metadata": {},
   "outputs": [
    {
     "name": "stdout",
     "output_type": "stream",
     "text": [
      "torch.Size([4, 3, 1])\n",
      "tensor([[[ 0.9000],\n",
      "         [ 0.2000],\n",
      "         [-1.0000]],\n",
      "\n",
      "        [[ 0.1000],\n",
      "         [-1.0000],\n",
      "         [-1.0000]],\n",
      "\n",
      "        [[ 0.5000],\n",
      "         [-1.0000],\n",
      "         [-1.0000]],\n",
      "\n",
      "        [[-1.0000],\n",
      "         [-1.0000],\n",
      "         [-1.0000]]])\n"
     ]
    }
   ],
   "source": [
    "int_edges = torch.unsqueeze(int_edges, 2)\n",
    "\n",
    "print(int_edges.shape)\n",
    "print(int_edges)"
   ]
  },
  {
   "cell_type": "markdown",
   "id": "19216100",
   "metadata": {},
   "source": [
    "**Step 5: Compute neighbor signals of all the nodes in the interface graph**"
   ]
  },
  {
   "cell_type": "markdown",
   "id": "b33ab2ca",
   "metadata": {},
   "source": [
    "Step 5a: Grab all the neighbors of interface atoms"
   ]
  },
  {
   "cell_type": "code",
   "execution_count": 9,
   "id": "7d71f3cb",
   "metadata": {},
   "outputs": [
    {
     "name": "stdout",
     "output_type": "stream",
     "text": [
      "torch.Size([4, 3, 16])\n",
      "tensor([[[ 1.6465,  0.4131,  0.0321,  0.8855, -0.2912,  0.7838, -0.4488,\n",
      "          -1.3473, -1.0906,  1.0139,  0.4203,  0.1642,  1.2011, -0.7894,\n",
      "           0.6780,  0.8977],\n",
      "         [-0.9270, -0.7774, -1.2629,  1.7078,  0.5497,  1.8573, -0.0765,\n",
      "           0.0360,  2.3269, -2.7075, -1.7738,  0.1427, -0.0294, -0.2745,\n",
      "           0.2629, -0.5668],\n",
      "         [ 0.0925,  0.8056, -0.4443,  0.7264, -0.4592, -0.4714, -0.8235,\n",
      "           0.0877,  0.3983,  0.3654,  1.1938, -0.9651, -0.7113,  0.4504,\n",
      "           0.0540,  1.1967]],\n",
      "\n",
      "        [[-0.3941, -1.2574, -0.6091,  1.0736, -0.9058, -1.7475,  0.9353,\n",
      "          -0.2424,  0.6113,  0.5230,  0.2550, -0.2047, -1.3506,  0.5298,\n",
      "          -0.4015,  0.0150],\n",
      "         [ 0.0925,  0.8056, -0.4443,  0.7264, -0.4592, -0.4714, -0.8235,\n",
      "           0.0877,  0.3983,  0.3654,  1.1938, -0.9651, -0.7113,  0.4504,\n",
      "           0.0540,  1.1967],\n",
      "         [ 0.0925,  0.8056, -0.4443,  0.7264, -0.4592, -0.4714, -0.8235,\n",
      "           0.0877,  0.3983,  0.3654,  1.1938, -0.9651, -0.7113,  0.4504,\n",
      "           0.0540,  1.1967]],\n",
      "\n",
      "        [[ 1.6465,  0.4131,  0.0321,  0.8855, -0.2912,  0.7838, -0.4488,\n",
      "          -1.3473, -1.0906,  1.0139,  0.4203,  0.1642,  1.2011, -0.7894,\n",
      "           0.6780,  0.8977],\n",
      "         [ 0.0925,  0.8056, -0.4443,  0.7264, -0.4592, -0.4714, -0.8235,\n",
      "           0.0877,  0.3983,  0.3654,  1.1938, -0.9651, -0.7113,  0.4504,\n",
      "           0.0540,  1.1967],\n",
      "         [ 0.0925,  0.8056, -0.4443,  0.7264, -0.4592, -0.4714, -0.8235,\n",
      "           0.0877,  0.3983,  0.3654,  1.1938, -0.9651, -0.7113,  0.4504,\n",
      "           0.0540,  1.1967]],\n",
      "\n",
      "        [[ 0.0925,  0.8056, -0.4443,  0.7264, -0.4592, -0.4714, -0.8235,\n",
      "           0.0877,  0.3983,  0.3654,  1.1938, -0.9651, -0.7113,  0.4504,\n",
      "           0.0540,  1.1967],\n",
      "         [ 0.0925,  0.8056, -0.4443,  0.7264, -0.4592, -0.4714, -0.8235,\n",
      "           0.0877,  0.3983,  0.3654,  1.1938, -0.9651, -0.7113,  0.4504,\n",
      "           0.0540,  1.1967],\n",
      "         [ 0.0925,  0.8056, -0.4443,  0.7264, -0.4592, -0.4714, -0.8235,\n",
      "           0.0877,  0.3983,  0.3654,  1.1938, -0.9651, -0.7113,  0.4504,\n",
      "           0.0540,  1.1967]]])\n"
     ]
    }
   ],
   "source": [
    "Zn_inter_step = node_Wn_int[int_indices]\n",
    "\n",
    "print(Zn_inter_step.shape)\n",
    "print(Zn_inter_step)"
   ]
  },
  {
   "cell_type": "markdown",
   "id": "b4f89eba",
   "metadata": {},
   "source": [
    "Step 5b: Select all the participating neighbors"
   ]
  },
  {
   "cell_type": "code",
   "execution_count": 10,
   "id": "a0b6a1a7",
   "metadata": {},
   "outputs": [
    {
     "name": "stdout",
     "output_type": "stream",
     "text": [
      "torch.Size([4, 3, 16])\n",
      "tensor([[[ 1.6465,  0.4131,  0.0321,  0.8855, -0.2912,  0.7838, -0.4488,\n",
      "          -1.3473, -1.0906,  1.0139,  0.4203,  0.1642,  1.2011, -0.7894,\n",
      "           0.6780,  0.8977],\n",
      "         [-0.9270, -0.7774, -1.2629,  1.7078,  0.5497,  1.8573, -0.0765,\n",
      "           0.0360,  2.3269, -2.7075, -1.7738,  0.1427, -0.0294, -0.2745,\n",
      "           0.2629, -0.5668],\n",
      "         [ 0.0000,  0.0000, -0.0000,  0.0000, -0.0000, -0.0000, -0.0000,\n",
      "           0.0000,  0.0000,  0.0000,  0.0000, -0.0000, -0.0000,  0.0000,\n",
      "           0.0000,  0.0000]],\n",
      "\n",
      "        [[-0.3941, -1.2574, -0.6091,  1.0736, -0.9058, -1.7475,  0.9353,\n",
      "          -0.2424,  0.6113,  0.5230,  0.2550, -0.2047, -1.3506,  0.5298,\n",
      "          -0.4015,  0.0150],\n",
      "         [ 0.0000,  0.0000, -0.0000,  0.0000, -0.0000, -0.0000, -0.0000,\n",
      "           0.0000,  0.0000,  0.0000,  0.0000, -0.0000, -0.0000,  0.0000,\n",
      "           0.0000,  0.0000],\n",
      "         [ 0.0000,  0.0000, -0.0000,  0.0000, -0.0000, -0.0000, -0.0000,\n",
      "           0.0000,  0.0000,  0.0000,  0.0000, -0.0000, -0.0000,  0.0000,\n",
      "           0.0000,  0.0000]],\n",
      "\n",
      "        [[ 1.6465,  0.4131,  0.0321,  0.8855, -0.2912,  0.7838, -0.4488,\n",
      "          -1.3473, -1.0906,  1.0139,  0.4203,  0.1642,  1.2011, -0.7894,\n",
      "           0.6780,  0.8977],\n",
      "         [ 0.0000,  0.0000, -0.0000,  0.0000, -0.0000, -0.0000, -0.0000,\n",
      "           0.0000,  0.0000,  0.0000,  0.0000, -0.0000, -0.0000,  0.0000,\n",
      "           0.0000,  0.0000],\n",
      "         [ 0.0000,  0.0000, -0.0000,  0.0000, -0.0000, -0.0000, -0.0000,\n",
      "           0.0000,  0.0000,  0.0000,  0.0000, -0.0000, -0.0000,  0.0000,\n",
      "           0.0000,  0.0000]],\n",
      "\n",
      "        [[ 0.0000,  0.0000, -0.0000,  0.0000, -0.0000, -0.0000, -0.0000,\n",
      "           0.0000,  0.0000,  0.0000,  0.0000, -0.0000, -0.0000,  0.0000,\n",
      "           0.0000,  0.0000],\n",
      "         [ 0.0000,  0.0000, -0.0000,  0.0000, -0.0000, -0.0000, -0.0000,\n",
      "           0.0000,  0.0000,  0.0000,  0.0000, -0.0000, -0.0000,  0.0000,\n",
      "           0.0000,  0.0000],\n",
      "         [ 0.0000,  0.0000, -0.0000,  0.0000, -0.0000, -0.0000, -0.0000,\n",
      "           0.0000,  0.0000,  0.0000,  0.0000, -0.0000, -0.0000,  0.0000,\n",
      "           0.0000,  0.0000]]])\n"
     ]
    }
   ],
   "source": [
    "Zn_inter_step = node_Wn_int[int_indices] * int_part\n",
    "\n",
    "print(Zn_inter_step.shape)\n",
    "print(Zn_inter_step)"
   ]
  },
  {
   "cell_type": "markdown",
   "id": "3bfb58c3",
   "metadata": {},
   "source": [
    "Step 5c: Scale each of the participating neighbor by its edge weight\n",
    "\n",
    "$\\mathbf{W}^{(l)}_{int} h^{(l-1)}_j \\bigodot E_{ij}$"
   ]
  },
  {
   "cell_type": "code",
   "execution_count": 11,
   "id": "6fad5be9",
   "metadata": {},
   "outputs": [
    {
     "name": "stdout",
     "output_type": "stream",
     "text": [
      "torch.Size([4, 3, 16])\n",
      "tensor([[[ 1.4818,  0.3718,  0.0289,  0.7970, -0.2621,  0.7054, -0.4039,\n",
      "          -1.2125, -0.9815,  0.9125,  0.3783,  0.1478,  1.0810, -0.7105,\n",
      "           0.6102,  0.8079],\n",
      "         [-0.1854, -0.1555, -0.2526,  0.3416,  0.1099,  0.3715, -0.0153,\n",
      "           0.0072,  0.4654, -0.5415, -0.3548,  0.0285, -0.0059, -0.0549,\n",
      "           0.0526, -0.1134],\n",
      "         [-0.0000, -0.0000,  0.0000, -0.0000,  0.0000,  0.0000,  0.0000,\n",
      "          -0.0000, -0.0000, -0.0000, -0.0000,  0.0000,  0.0000, -0.0000,\n",
      "          -0.0000, -0.0000]],\n",
      "\n",
      "        [[-0.0394, -0.1257, -0.0609,  0.1074, -0.0906, -0.1747,  0.0935,\n",
      "          -0.0242,  0.0611,  0.0523,  0.0255, -0.0205, -0.1351,  0.0530,\n",
      "          -0.0401,  0.0015],\n",
      "         [-0.0000, -0.0000,  0.0000, -0.0000,  0.0000,  0.0000,  0.0000,\n",
      "          -0.0000, -0.0000, -0.0000, -0.0000,  0.0000,  0.0000, -0.0000,\n",
      "          -0.0000, -0.0000],\n",
      "         [-0.0000, -0.0000,  0.0000, -0.0000,  0.0000,  0.0000,  0.0000,\n",
      "          -0.0000, -0.0000, -0.0000, -0.0000,  0.0000,  0.0000, -0.0000,\n",
      "          -0.0000, -0.0000]],\n",
      "\n",
      "        [[ 0.8232,  0.2066,  0.0161,  0.4428, -0.1456,  0.3919, -0.2244,\n",
      "          -0.6736, -0.5453,  0.5069,  0.2102,  0.0821,  0.6006, -0.3947,\n",
      "           0.3390,  0.4489],\n",
      "         [-0.0000, -0.0000,  0.0000, -0.0000,  0.0000,  0.0000,  0.0000,\n",
      "          -0.0000, -0.0000, -0.0000, -0.0000,  0.0000,  0.0000, -0.0000,\n",
      "          -0.0000, -0.0000],\n",
      "         [-0.0000, -0.0000,  0.0000, -0.0000,  0.0000,  0.0000,  0.0000,\n",
      "          -0.0000, -0.0000, -0.0000, -0.0000,  0.0000,  0.0000, -0.0000,\n",
      "          -0.0000, -0.0000]],\n",
      "\n",
      "        [[-0.0000, -0.0000,  0.0000, -0.0000,  0.0000,  0.0000,  0.0000,\n",
      "          -0.0000, -0.0000, -0.0000, -0.0000,  0.0000,  0.0000, -0.0000,\n",
      "          -0.0000, -0.0000],\n",
      "         [-0.0000, -0.0000,  0.0000, -0.0000,  0.0000,  0.0000,  0.0000,\n",
      "          -0.0000, -0.0000, -0.0000, -0.0000,  0.0000,  0.0000, -0.0000,\n",
      "          -0.0000, -0.0000],\n",
      "         [-0.0000, -0.0000,  0.0000, -0.0000,  0.0000,  0.0000,  0.0000,\n",
      "          -0.0000, -0.0000, -0.0000, -0.0000,  0.0000,  0.0000, -0.0000,\n",
      "          -0.0000, -0.0000]]])\n"
     ]
    }
   ],
   "source": [
    "Zn_inter_step = node_Wn_int[int_indices] * int_part * int_edges\n",
    "\n",
    "print(Zn_inter_step.shape)\n",
    "print(Zn_inter_step)"
   ]
  },
  {
   "cell_type": "markdown",
   "id": "a42a587c",
   "metadata": {},
   "source": [
    "Step 5d: Sum all the neighbors of an atom\n",
    "\n",
    "$\\sum_{j \\epsilon N_i^{(int)}} \\mathbf{W}^{(l)}_{int} h^{(l-1)}_j \\bigodot E_{ij}$"
   ]
  },
  {
   "cell_type": "code",
   "execution_count": 12,
   "id": "aac47740",
   "metadata": {},
   "outputs": [
    {
     "name": "stdout",
     "output_type": "stream",
     "text": [
      "torch.Size([4, 16])\n",
      "tensor([[ 1.2964,  0.2163, -0.2237,  1.1385, -0.1521,  1.0769, -0.4192, -1.2053,\n",
      "         -0.5162,  0.3710,  0.0236,  0.1764,  1.0751, -0.7654,  0.6628,  0.6946],\n",
      "        [-0.0394, -0.1257, -0.0609,  0.1074, -0.0906, -0.1747,  0.0935, -0.0242,\n",
      "          0.0611,  0.0523,  0.0255, -0.0205, -0.1351,  0.0530, -0.0401,  0.0015],\n",
      "        [ 0.8232,  0.2066,  0.0161,  0.4428, -0.1456,  0.3919, -0.2244, -0.6736,\n",
      "         -0.5453,  0.5069,  0.2102,  0.0821,  0.6006, -0.3947,  0.3390,  0.4489],\n",
      "        [ 0.0000,  0.0000,  0.0000,  0.0000,  0.0000,  0.0000,  0.0000,  0.0000,\n",
      "          0.0000,  0.0000,  0.0000,  0.0000,  0.0000,  0.0000,  0.0000,  0.0000]])\n"
     ]
    }
   ],
   "source": [
    "Zn_inter_step = torch.sum(node_Wn_int[int_indices] * int_part * int_edges, 1)\n",
    "\n",
    "print(Zn_inter_step.shape)\n",
    "print(Zn_inter_step)"
   ]
  },
  {
   "cell_type": "markdown",
   "id": "32b3bc37",
   "metadata": {},
   "source": [
    "Step 5e: Divide with the number of atoms in interface graph"
   ]
  },
  {
   "cell_type": "markdown",
   "id": "e4bfc250",
   "metadata": {},
   "source": [
    "$\\frac{1}{|N_i^{(int)}|}\\sum_{j \\epsilon N_i^{(int)}} \\mathbf{W}^{(l)}_{int} h^{(l-1)}_j \\bigodot E_{ij} $"
   ]
  },
  {
   "cell_type": "code",
   "execution_count": 13,
   "id": "77ec9a61",
   "metadata": {},
   "outputs": [
    {
     "name": "stdout",
     "output_type": "stream",
     "text": [
      "torch.Size([4, 16])\n",
      "tensor([[ 0.6482,  0.1082, -0.1118,  0.5693, -0.0761,  0.5384, -0.2096, -0.6027,\n",
      "         -0.2581,  0.1855,  0.0118,  0.0882,  0.5376, -0.3827,  0.3314,  0.3473],\n",
      "        [-0.0394, -0.1257, -0.0609,  0.1074, -0.0906, -0.1747,  0.0935, -0.0242,\n",
      "          0.0611,  0.0523,  0.0255, -0.0205, -0.1351,  0.0530, -0.0401,  0.0015],\n",
      "        [ 0.8232,  0.2066,  0.0161,  0.4428, -0.1456,  0.3919, -0.2244, -0.6736,\n",
      "         -0.5453,  0.5069,  0.2102,  0.0821,  0.6006, -0.3947,  0.3390,  0.4489],\n",
      "        [ 0.0000,  0.0000,  0.0000,  0.0000,  0.0000,  0.0000,  0.0000,  0.0000,\n",
      "          0.0000,  0.0000,  0.0000,  0.0000,  0.0000,  0.0000,  0.0000,  0.0000]])\n"
     ]
    }
   ],
   "source": [
    "Zn_inter = torch.sum(node_Wn_int[int_indices] * int_part * int_edges, 1) / no_of_neighs_int\n",
    "\n",
    "print(Zn_inter.shape)\n",
    "print(Zn_inter)"
   ]
  },
  {
   "cell_type": "markdown",
   "id": "b380a035",
   "metadata": {},
   "source": [
    "### GCN Layer code"
   ]
  },
  {
   "cell_type": "code",
   "execution_count": 14,
   "id": "826c61bd",
   "metadata": {},
   "outputs": [],
   "source": [
    "class GCN_layer(nn.Module):\n",
    "\n",
    "    def __init__(self, v_feats, filters, dropout=0.1, bias=True, trainable=True, **kwargs):\n",
    "\n",
    "        super(GCN_layer, self).__init__()\n",
    "\n",
    "        self.v_feats = v_feats\n",
    "        self.filters = filters\n",
    "        self.dropout= dropout\n",
    "        self.bias = bias\n",
    "        self.trainable = trainable\n",
    "        \n",
    "        use_cuda = torch.cuda.is_available()\n",
    "        self.device = torch.device(\"cuda:0\" if use_cuda else \"cpu\")\n",
    "        \n",
    "        # Define non-linear function\n",
    "        self.non_lin = nn.LeakyReLU()\n",
    "\n",
    "        # Initialize dropout\n",
    "        self.drop_layer = nn.Dropout(p=self.dropout)\n",
    "       \n",
    "        # Initialize learnable parameters\n",
    "        self.Wvc = nn.Parameter(\n",
    "                    init.kaiming_uniform_(\n",
    "                        torch.randn(self.v_feats, self.filters, requires_grad=self.trainable))\n",
    "                            .type(torch.float).to(self.device))  # (v_dims, filters)\n",
    "        self.Wvn_int = nn.Parameter(\n",
    "                        init.kaiming_uniform_(\n",
    "                            torch.randn(self.v_feats, self.filters, requires_grad=self.trainable))\n",
    "                                .type(torch.float).to(self.device))  # (v_dims, filters)\n",
    "        self.Wvn_prot = nn.Parameter(\n",
    "                        init.kaiming_uniform_(\n",
    "                            torch.randn(self.v_feats, self.filters, requires_grad=self.trainable))\n",
    "                                .type(torch.float).to(self.device))  # (v_dims, filters)\n",
    "        self.bv = nn.Parameter(\n",
    "                        torch.zeros(self.filters, requires_grad=self.trainable)\n",
    "                            .type(torch.float).to(self.device))\n",
    "        \n",
    "        \n",
    "    def forward(self, x):\n",
    "\n",
    "        node_feat, prot_indices, int_indices, prot_edges, int_edges = x\n",
    "\n",
    "        # generate center node signals\n",
    "        Zc = torch.matmul(node_feat, self.Wvc)  # (n_verts, filters)\n",
    "\n",
    "        # create neighbor signals\n",
    "        v_Wvn_int = torch.matmul(node_feat, self.Wvn_int)  # (n_verts, filters)\n",
    "        v_Wvn_prot = torch.matmul(node_feat, self.Wvn_prot)  # (n_verts, filters)\n",
    "        \n",
    "        # Find participating neighbors of the interface and protein graph in Graph Convolution \n",
    "        int_part = torch.unsqueeze(int_indices > -1, 2).type(torch.float)\n",
    "        prot_part = torch.unsqueeze(prot_indices > -1, 2).type(torch.float)\n",
    "\n",
    "        # Find the number of neighbors per atom\n",
    "        no_of_neighs_int = torch.sum(int_indices > -1, 1).unsqueeze(1).to(self.device).type(torch.float)\n",
    "        no_of_neighs_prot = torch.sum(prot_indices > -1, 1).unsqueeze(1).to(self.device).type(torch.float)\n",
    "        no_of_neighs_int[no_of_neighs_int == 0] = 1\n",
    "        no_of_neighs_prot[no_of_neighs_prot == 0] = 1\n",
    "        \n",
    "        # Expand interface and neighborh edge matrices to allow scalar multiplication\n",
    "        if(len(int_edges.size()) != 3):\n",
    "            int_edges = torch.unsqueeze(int_edges, 2)\n",
    "            prot_edges = torch.unsqueeze(prot_edges, 2)\n",
    "\n",
    "        # Generate neighbor signals w.r.t the interface and protein graph\n",
    "        Zn_inter = torch.sum(v_Wvn_int[int_indices] * int_part * int_edges, 1) / no_of_neighs_int\n",
    "        Zn_prot = torch.sum(v_Wvn_prot[prot_indices] * prot_part * prot_edges, 1) / no_of_neighs_prot\n",
    "\n",
    "        # Combine central and neighbor signals\n",
    "        Z = Zc + Zn_inter + Zn_prot\n",
    "\n",
    "        # Add bias\n",
    "        if self.bias:\n",
    "            Z += self.bv\n",
    "\n",
    "        # Apply activation function\n",
    "        h = self.non_lin(Z)\n",
    "\n",
    "        # Apply dropout\n",
    "        if self.dropout:\n",
    "            h = self.drop_layer(h)\n",
    "\n",
    "\n",
    "        return h, prot_indices, int_indices, prot_edges, int_edges"
   ]
  },
  {
   "cell_type": "markdown",
   "id": "d029d4b4",
   "metadata": {},
   "source": [
    "## Define Graph Neural network"
   ]
  },
  {
   "cell_type": "code",
   "execution_count": 15,
   "id": "f3f6b4de",
   "metadata": {},
   "outputs": [],
   "source": [
    "class GNN(torch.nn.Module):\n",
    "    \"\"\"\n",
    "        GCN + Sum unit pooling + L1-loss\n",
    "    \"\"\"\n",
    "    def __init__(self):\n",
    "        super(GNN, self).__init__()\n",
    "\n",
    "        # Define neural network layers\n",
    "        self.conv1 = GCN_layer(v_feats=11, filters=16, dropout=0.1)\n",
    "        self.conv2 = GCN_layer(v_feats=16, filters=32, dropout=0.1)\n",
    "        self.conv3 = GCN_layer(v_feats=32, filters=64, dropout=0.1)\n",
    "        self.dense = Dense(in_dims=64, out_dims=1, nonlin=\"linear\")\n",
    "\n",
    "        # Define optimizer\n",
    "        self.optimizer = optim.Adam(self.parameters(), lr=0.01, weight_decay=0.0001)\n",
    "\n",
    "    def forward(self, x):\n",
    "        \n",
    "        # GCN layers\n",
    "        x = self.conv1(x)\n",
    "        x = self.conv2(x)\n",
    "        x = self.conv3(x)\n",
    "        x = x[0]\n",
    "        # each row of x is now a feature vector.\n",
    "\n",
    "        # Graph pooling\n",
    "        x = torch.sum(x, 0).view(1, -1)\n",
    "        x = F.normalize(x)\n",
    "\n",
    "        # Dense layer\n",
    "        x = self.dense(x)\n",
    "        x = torch.squeeze(x, 1)\n",
    "\n",
    "        return x\n",
    "\n",
    "    def loss(self, output, target, reduction='mean'):\n",
    "        # Define loss function\n",
    "        return F.l1_loss(output, target, reduction=reduction)"
   ]
  },
  {
   "cell_type": "markdown",
   "id": "710e09f6",
   "metadata": {},
   "source": [
    "## Initialize Graph Neural Network"
   ]
  },
  {
   "cell_type": "code",
   "execution_count": 16,
   "id": "c67b07c0",
   "metadata": {},
   "outputs": [],
   "source": [
    "model = GNN().to(device)"
   ]
  },
  {
   "cell_type": "markdown",
   "id": "eec8f9e8",
   "metadata": {},
   "source": [
    "## Initialize PyTorch data loader and data sampler"
   ]
  },
  {
   "cell_type": "code",
   "execution_count": 17,
   "id": "7fb132c1",
   "metadata": {},
   "outputs": [
    {
     "name": "stdout",
     "output_type": "stream",
     "text": [
      "No. of train complexes: 3\n",
      "No. of test complexes: 2\n"
     ]
    }
   ],
   "source": [
    "dataset_path = \"data\"\n",
    "\n",
    "# Train dataset generator - training\n",
    "train_dataset = Dataset(dataset_path, \"train\")\n",
    "\n",
    "train_params = {'sampler': CustomSampler(batch_complexes = 2,\n",
    "                                   decoys_per_complex = 50,\n",
    "                                   dataset_path = dataset_path,\n",
    "                                   dataset_cat = \"train\",\n",
    "                                   random_sample = True),\n",
    "          'num_workers': 0,\n",
    "          'collate_fn' : lambda x: x[0]}\n",
    "training_generator = data.DataLoader(train_dataset, **train_params)\n",
    "\n",
    "# Train dataset generator - testing\n",
    "train_params = {'sampler': CustomSampler(batch_complexes = 2,\n",
    "                                   decoys_per_complex = 300,\n",
    "                                   dataset_path = dataset_path,\n",
    "                                   dataset_cat = \"train\",\n",
    "                                   verbose=False),\n",
    "          'num_workers': 0,\n",
    "          'collate_fn' : lambda x: x[0]}\n",
    "test_generator_train_set = data.DataLoader(train_dataset, **train_params)\n",
    "\n",
    "# Test dataset generator\n",
    "test_dataset = Dataset(dataset_path, \"test\")\n",
    "test_params = {'sampler': CustomSampler(batch_complexes = 2,\n",
    "                                   decoys_per_complex = 300,\n",
    "                                   dataset_path = dataset_path,\n",
    "                                   dataset_cat = \"test\"),\n",
    "          'num_workers': 0,\n",
    "          'collate_fn' : lambda x: x[0]}\n",
    "test_generator_test_set = data.DataLoader(test_dataset, **test_params)"
   ]
  },
  {
   "cell_type": "markdown",
   "id": "9819549a",
   "metadata": {},
   "source": [
    "## Train model"
   ]
  },
  {
   "cell_type": "code",
   "execution_count": 18,
   "id": "e0d59a1f",
   "metadata": {},
   "outputs": [
    {
     "name": "stdout",
     "output_type": "stream",
     "text": [
      "Epoch 1 loss : 1.7805060297250748\n",
      "Epoch 2 loss : 1.9482030868530273\n",
      "Epoch 3 loss : 0.4889952540397644\n",
      "Epoch 4 loss : 0.47706417739391327\n",
      "Epoch 5 loss : 0.21714823693037033\n",
      "Epoch 6 loss : 0.18489650636911392\n",
      "Epoch 7 loss : 0.22734376788139343\n",
      "Epoch 8 loss : 0.24544887244701385\n",
      "Epoch 9 loss : 0.11929459124803543\n",
      "Epoch 10 loss : 0.14776961505413055\n"
     ]
    }
   ],
   "source": [
    "epochs = 10\n",
    "mini_batches_per_epoch = 30\n",
    "\n",
    "loss = []\n",
    "\n",
    "for epoch in range(0, epochs):\n",
    "    \n",
    "    loss_ = train(model, device, training_generator, model.optimizer, epoch, mini_batches_per_epoch)\n",
    "    \n",
    "    loss.append(loss_)\n",
    "    \n",
    "    print(\"Epoch \" + str(epoch+1)+ \" loss : \" + str(loss_))\n",
    "    "
   ]
  },
  {
   "cell_type": "markdown",
   "id": "4e40c945",
   "metadata": {},
   "source": [
    "## Plot loss function"
   ]
  },
  {
   "cell_type": "code",
   "execution_count": 19,
   "id": "0bd7e019",
   "metadata": {},
   "outputs": [
    {
     "data": {
      "image/png": "[encoded data removed]",
      "text/plain": [
       "<Figure size 432x288 with 1 Axes>"
      ]
     },
     "metadata": {
      "needs_background": "light"
     },
     "output_type": "display_data"
    }
   ],
   "source": [
    "epoch_list = list(range(1, epochs+1))\n",
    "epoch_losses = list(zip(epoch_list, loss))\n",
    "\n",
    "loss_df = pd.DataFrame(epoch_losses, columns=[\"Epoch\", \"Train loss\"])\n",
    "\n",
    "lines = loss_df.plot.line(x=\"Epoch\", y=\"Train loss\")\n"
   ]
  },
  {
   "cell_type": "markdown",
   "id": "9d41fe96",
   "metadata": {},
   "source": [
    "## Test model"
   ]
  },
  {
   "cell_type": "code",
   "execution_count": 21,
   "id": "374da1da",
   "metadata": {},
   "outputs": [],
   "source": [
    "scores_dockq_train = test(model, device, test_generator_train_set, \"train\")\n",
    "scores_dockq_test = test(model, device, test_generator_test_set, \"test\")"
   ]
  },
  {
   "cell_type": "markdown",
   "id": "15812f51",
   "metadata": {},
   "source": [
    "### Train complex 1 results"
   ]
  },
  {
   "cell_type": "code",
   "execution_count": 22,
   "id": "049a013f",
   "metadata": {},
   "outputs": [
    {
     "data": {
      "image/png": "[encoded data removed]",
      "text/plain": [
       "<Figure size 576x360 with 1 Axes>"
      ]
     },
     "metadata": {
      "needs_background": "light"
     },
     "output_type": "display_data"
    }
   ],
   "source": [
    "show_results(\"1bvn\", scores_dockq_train)"
   ]
  },
  {
   "cell_type": "code",
   "execution_count": 23,
   "id": "5d184155",
   "metadata": {},
   "outputs": [
    {
     "data": {
      "image/png": "[encoded data removed]",
      "text/plain": [
       "<Figure size 576x360 with 1 Axes>"
      ]
     },
     "metadata": {
      "needs_background": "light"
     },
     "output_type": "display_data"
    }
   ],
   "source": [
    "show_results(\"1f34\", scores_dockq_train)"
   ]
  },
  {
   "cell_type": "code",
   "execution_count": 24,
   "id": "778eab8d",
   "metadata": {},
   "outputs": [
    {
     "data": {
      "image/png": "[encoded data removed]",
      "text/plain": [
       "<Figure size 576x360 with 1 Axes>"
      ]
     },
     "metadata": {
      "needs_background": "light"
     },
     "output_type": "display_data"
    }
   ],
   "source": [
    "show_results(\"1pvh\", scores_dockq_train)"
   ]
  },
  {
   "cell_type": "markdown",
   "id": "fba2cfd6",
   "metadata": {},
   "source": [
    "### Test complex 1 results"
   ]
  },
  {
   "cell_type": "code",
   "execution_count": 21,
   "id": "8811f9ee",
   "metadata": {},
   "outputs": [
    {
     "data": {
      "image/png": "[encoded data removed]",
      "text/plain": [
       "<Figure size 576x360 with 1 Axes>"
      ]
     },
     "metadata": {
      "needs_background": "light"
     },
     "output_type": "display_data"
    }
   ],
   "source": [
    "show_results(\"1b6c\", scores_dockq_test)"
   ]
  },
  {
   "cell_type": "markdown",
   "id": "7418d0f4",
   "metadata": {},
   "source": [
    "### Test complex 2 results"
   ]
  },
  {
   "cell_type": "code",
   "execution_count": 22,
   "id": "490d8de4",
   "metadata": {},
   "outputs": [
    {
     "data": {
      "image/png": "[encoded data removed]",
      "text/plain": [
       "<Figure size 576x360 with 1 Axes>"
      ]
     },
     "metadata": {
      "needs_background": "light"
     },
     "output_type": "display_data"
    }
   ],
   "source": [
    "show_results(\"1e6e\", scores_dockq)"
   ]
  }
 ],
 "metadata": {
  "kernelspec": {
   "display_name": "Python 3",
   "language": "python",
   "name": "python3"
  },
  "language_info": {
   "codemirror_mode": {
    "name": "ipython",
    "version": 3
   },
   "file_extension": ".py",
   "mimetype": "text/x-python",
   "name": "python",
   "nbconvert_exporter": "python",
   "pygments_lexer": "ipython3",
   "version": "3.6.8"
  }
 },
 "nbformat": 4,
 "nbformat_minor": 5
}
