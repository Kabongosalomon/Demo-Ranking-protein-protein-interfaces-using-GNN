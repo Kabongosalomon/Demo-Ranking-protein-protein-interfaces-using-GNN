{
 "cells": [
  {
   "cell_type": "markdown",
   "id": "6f137f93",
   "metadata": {},
   "source": [
    "# Demo for ranking protein-protein interface using Graph Convolution"
   ]
  },
  {
   "cell_type": "markdown",
   "id": "c6ee0e26",
   "metadata": {},
   "source": [
    "## Project setup"
   ]
  },
  {
   "cell_type": "code",
   "execution_count": null,
   "id": "b4218de3",
   "metadata": {},
   "outputs": [],
   "source": [
    "# Copying data and code from GitHub repository\n",
    "!git clone https://github.com/withai/Demo-Ranking-protein-protein-interfaces-using-GNN.git\n",
    "!mv Demo-Ranking-protein-protein-interfaces-using-GNN/* .\n",
    "!rm -r Demo-Ranking-protein-protein-interfaces-using-GNN"
   ]
  },
  {
   "cell_type": "markdown",
   "id": "ffbac141",
   "metadata": {},
   "source": [
    "## Import libraries"
   ]
  },
  {
   "cell_type": "code",
   "execution_count": 1,
   "id": "6d89e241",
   "metadata": {},
   "outputs": [],
   "source": [
    "# Import PyTorch\n",
    "import torch\n",
    "import torch.backends.cudnn as cudnn\n",
    "from torch.utils import data\n",
    "import torch.nn.functional as F\n",
    "import torch.nn as nn\n",
    "import torch.optim as optim\n",
    "from torch.utils import data\n",
    "import torch.nn.init as init\n",
    "\n",
    "# Import Neural Network layer\n",
    "from nn import Dense\n",
    "\n",
    "# Import utility functions\n",
    "from dataset import Dataset\n",
    "from sampler import CustomSampler\n",
    "from train import train\n",
    "from test import test\n",
    "\n",
    "# Import libraries for graphing\n",
    "import pandas as pd\n",
    "import numpy as np\n",
    "from graph import show_results\n",
    "import matplotlib.pyplot as plt\n",
    "%matplotlib inline\n",
    "\n"
   ]
  },
  {
   "cell_type": "markdown",
   "id": "3cb4db1a",
   "metadata": {},
   "source": [
    "## Run computation on GPU or CPU"
   ]
  },
  {
   "cell_type": "code",
   "execution_count": 2,
   "id": "5ca523ac",
   "metadata": {
    "scrolled": true
   },
   "outputs": [],
   "source": [
    "use_cuda = torch.cuda.is_available()\n",
    "device = torch.device(\"cuda:0\" if use_cuda else \"cpu\")"
   ]
  },
  {
   "cell_type": "markdown",
   "id": "039ba253",
   "metadata": {},
   "source": [
    "## Define Graph Convolution layer"
   ]
  },
  {
   "cell_type": "markdown",
   "id": "34e5920f",
   "metadata": {},
   "source": [
    "$$\n",
    "h^{(l)}_i = \\sigma \\left(\\mathbf{W}^{(l)}_c h^{(l-1)}_i +\n",
    "    \\frac{1}{|N_i^{(int)}|}\\sum_{j \\epsilon N_i^{(int)}} \\mathbf{W}^{(l)}_{int} h^{(l-1)}_j \\bigodot E_{ij} \\right.  \\left. + \\frac{1}{|N_i^{(prot)}|}\\sum_{j \\epsilon N_i^{(prot)}} \\mathbf{W}^{(l)}_{prot} h^{(l-1)}_j \\bigodot E_{ij} + b^{(l)} \\vphantom{\\frac{1}{|N_i^{(neigh)}|}}\\right)\n",
    "$$\n",
    "\n",
    "\n",
    "where for the layer $l$,  \n",
    "\n",
    "$\\mathbf{W}^{(l)}_c$ is the weight matrix for learning representations w.r.t central node,\n",
    "\n",
    "$\\mathbf{W}^{(l)}_{int}$ and $\\mathbf{W}^{(l)}_{prot}$ are the weight matrix for learning representations w.r.t the neighbor nodes in the interface graph and the protein graph respectively,\n",
    "\n",
    "$b^{(l)}$ is the bias vector, \n",
    "\n",
    "$h^{(l)}_i$ is the hidden node embedding of node $i$,\n",
    "\n",
    "$N_i^{(int)}$ is the number of atoms surrounding node $i$ in the interface graph, \n",
    "\n",
    "$N_i^{(prot)}$ is the number of atoms surrounding node $i$ in the protein graph, \n",
    "\n",
    "$\\sigma$  is the activation function, and\n",
    "\n",
    "$E_{ij}$ is the value in the edge matrix between node $i$ and node $j$."
   ]
  },
  {
   "cell_type": "markdown",
   "id": "0acd3872",
   "metadata": {},
   "source": [
    "### How does computing neighborhood signals look like in the code?\n",
    "\n",
    "Let's compute neighborhood signals in the interface graph\n",
    "\n",
    "$\n",
    "\\begin{align}\n",
    "\\frac{1}{|N_i^{(int)}|}\\sum_{j \\epsilon N_i^{(int)}} \\mathbf{W}^{(l)}_{int} h^{(l-1)}_j \\bigodot E_{ij} \n",
    "\\end{align}\n",
    "$"
   ]
  },
  {
   "cell_type": "markdown",
   "id": "62c3f487",
   "metadata": {},
   "source": [
    "**Define all the variables**"
   ]
  },
  {
   "cell_type": "code",
   "execution_count": 3,
   "id": "65a0759a",
   "metadata": {},
   "outputs": [],
   "source": [
    "# node features: One-hot encoding of 11 different atom types\n",
    "node_feat = torch.tensor([\n",
    "                            [0, 1, 0, 0, 0, 0, 0, 0, 0, 0, 0], # atom 1\n",
    "                            [0, 0, 0, 0, 0, 0, 0, 0, 0, 0, 1], # atom 2\n",
    "                            [0, 0, 0, 0, 1, 0, 0, 0, 0, 0, 0], # atom 3\n",
    "                            [1, 0, 0, 0, 0, 0, 0, 0, 0, 0, 0], # atom 4 \n",
    "                        ]).type(torch.float)\n",
    "\n",
    "# indices of neighbor atoms in interface graph\n",
    "int_indices = torch.tensor([\n",
    "                            [1, 2, -1],  # neighbors of atom 1\n",
    "                            [0, -1, -1], # neighbors of atom 2\n",
    "                            [1, -1, -1], # neighbors of atom 3\n",
    "                            [-1, -1, -1] # neighbors of atom 4\n",
    "                          ])\n",
    "\n",
    "# edge weights of neighbor atoms in interface graph\n",
    "int_edges = torch.tensor([\n",
    "                            [0.9, 0.2, -1], # weights of neighbors of atom 1\n",
    "                            [0.1, -1, -1],  # weights of neighbors of atom 2\n",
    "                            [0.5, -1, -1],  # weights of neighbors of atom 3\n",
    "                            [-1, -1, -1]    # weights of neighbors of atom 4\n",
    "                        ])\n",
    "\n",
    "# weight matrix\n",
    "num_of_features = 11\n",
    "filters = 16\n",
    "\n",
    "w_int = torch.randn(num_of_features, filters)\n"
   ]
  },
  {
   "cell_type": "markdown",
   "id": "3f5c4bd2",
   "metadata": {},
   "source": [
    "**Step 1: Compute signals for all the nodes in the graph**"
   ]
  },
  {
   "cell_type": "code",
   "execution_count": 4,
   "id": "83d73ead",
   "metadata": {},
   "outputs": [
    {
     "name": "stdout",
     "output_type": "stream",
     "text": [
      "torch.Size([4, 16])\n",
      "tensor([[ 1.9271,  1.4316, -1.0644,  0.7279, -0.2573,  0.8141,  0.7992,  0.5950,\n",
      "         -0.0411,  1.1367, -0.8156,  1.3591, -0.0407, -0.3058,  0.1911, -0.1502],\n",
      "        [ 0.4444,  0.5052,  1.2067,  1.9365,  0.3248,  1.7097,  0.8108, -1.9328,\n",
      "         -0.1179, -1.0398, -0.2712,  0.4724,  2.2838,  0.6347, -1.4750, -0.9735],\n",
      "        [-0.4510, -0.1511, -1.5775,  0.7738,  1.8250,  0.7037, -2.6085,  0.6280,\n",
      "          2.0199, -0.5045,  1.0678,  0.5699,  0.8970, -0.3461,  2.0094, -0.9390],\n",
      "        [ 0.9336, -0.5197,  0.6133,  1.4239, -0.2088,  0.6388,  0.0661, -0.2356,\n",
      "          0.0316, -0.1286, -0.5737,  0.6740,  1.3765,  0.5369, -0.5896, -1.7138]])\n"
     ]
    }
   ],
   "source": [
    "node_Wn_int = torch.matmul(node_feat, w_int)\n",
    "\n",
    "print(node_Wn_int.shape)\n",
    "print(node_Wn_int)"
   ]
  },
  {
   "cell_type": "markdown",
   "id": "4885a83b",
   "metadata": {},
   "source": [
    "**Step 2: Find all the neighbors of atoms that are participating in the interface graph**"
   ]
  },
  {
   "cell_type": "code",
   "execution_count": 5,
   "id": "52a4f8d7",
   "metadata": {},
   "outputs": [
    {
     "name": "stdout",
     "output_type": "stream",
     "text": [
      "torch.Size([4, 3, 1])\n",
      "tensor([[[1.],\n",
      "         [1.],\n",
      "         [0.]],\n",
      "\n",
      "        [[1.],\n",
      "         [0.],\n",
      "         [0.]],\n",
      "\n",
      "        [[1.],\n",
      "         [0.],\n",
      "         [0.]],\n",
      "\n",
      "        [[0.],\n",
      "         [0.],\n",
      "         [0.]]])\n"
     ]
    }
   ],
   "source": [
    "int_part = torch.unsqueeze(int_indices > -1, 2).type(torch.float)\n",
    "\n",
    "print(int_part.shape)\n",
    "print(int_part)"
   ]
  },
  {
   "cell_type": "markdown",
   "id": "da652e32",
   "metadata": {},
   "source": [
    "**Step 3: For each atom find the number of neighbors participating in the graph**"
   ]
  },
  {
   "cell_type": "code",
   "execution_count": 6,
   "id": "70d29ea0",
   "metadata": {},
   "outputs": [
    {
     "name": "stdout",
     "output_type": "stream",
     "text": [
      "torch.Size([4, 1])\n",
      "tensor([[2],\n",
      "        [1],\n",
      "        [1],\n",
      "        [0]])\n"
     ]
    }
   ],
   "source": [
    "no_of_neighs_int = torch.sum(int_indices > -1, 1).unsqueeze(1)\n",
    "\n",
    "print(no_of_neighs_int.shape)\n",
    "print(no_of_neighs_int)"
   ]
  },
  {
   "cell_type": "markdown",
   "id": "e5519efa",
   "metadata": {},
   "source": [
    "**Step 4a: Make sure we don't divide by zeros**"
   ]
  },
  {
   "cell_type": "code",
   "execution_count": 7,
   "id": "b7863a54",
   "metadata": {},
   "outputs": [
    {
     "name": "stdout",
     "output_type": "stream",
     "text": [
      "torch.Size([4, 1])\n",
      "tensor([[2],\n",
      "        [1],\n",
      "        [1],\n",
      "        [1]])\n"
     ]
    }
   ],
   "source": [
    "no_of_neighs_int[no_of_neighs_int == 0] = 1\n",
    "\n",
    "print(no_of_neighs_int.shape)\n",
    "print(no_of_neighs_int)"
   ]
  },
  {
   "cell_type": "markdown",
   "id": "81a1d729",
   "metadata": {},
   "source": [
    "**Step 4b: Expand the dimension of edge weights to allow scalar multiplication**"
   ]
  },
  {
   "cell_type": "code",
   "execution_count": 8,
   "id": "5c0c95b8",
   "metadata": {},
   "outputs": [
    {
     "name": "stdout",
     "output_type": "stream",
     "text": [
      "torch.Size([4, 3, 1])\n",
      "tensor([[[ 0.9000],\n",
      "         [ 0.2000],\n",
      "         [-1.0000]],\n",
      "\n",
      "        [[ 0.1000],\n",
      "         [-1.0000],\n",
      "         [-1.0000]],\n",
      "\n",
      "        [[ 0.5000],\n",
      "         [-1.0000],\n",
      "         [-1.0000]],\n",
      "\n",
      "        [[-1.0000],\n",
      "         [-1.0000],\n",
      "         [-1.0000]]])\n"
     ]
    }
   ],
   "source": [
    "int_edges = torch.unsqueeze(int_edges, 2)\n",
    "\n",
    "print(int_edges.shape)\n",
    "print(int_edges)"
   ]
  },
  {
   "cell_type": "markdown",
   "id": "19216100",
   "metadata": {},
   "source": [
    "**Step 5: Compute neighbor signals of all the nodes in the interface graph**"
   ]
  },
  {
   "cell_type": "markdown",
   "id": "b33ab2ca",
   "metadata": {},
   "source": [
    "Step 5a: Grab all the neighbors of interface atoms"
   ]
  },
  {
   "cell_type": "code",
   "execution_count": 9,
   "id": "7d71f3cb",
   "metadata": {},
   "outputs": [
    {
     "name": "stdout",
     "output_type": "stream",
     "text": [
      "torch.Size([4, 3, 16])\n",
      "tensor([[[ 0.4444,  0.5052,  1.2067,  1.9365,  0.3248,  1.7097,  0.8108,\n",
      "          -1.9328, -0.1179, -1.0398, -0.2712,  0.4724,  2.2838,  0.6347,\n",
      "          -1.4750, -0.9735],\n",
      "         [-0.4510, -0.1511, -1.5775,  0.7738,  1.8250,  0.7037, -2.6085,\n",
      "           0.6280,  2.0199, -0.5045,  1.0678,  0.5699,  0.8970, -0.3461,\n",
      "           2.0094, -0.9390],\n",
      "         [ 0.9336, -0.5197,  0.6133,  1.4239, -0.2088,  0.6388,  0.0661,\n",
      "          -0.2356,  0.0316, -0.1286, -0.5737,  0.6740,  1.3765,  0.5369,\n",
      "          -0.5896, -1.7138]],\n",
      "\n",
      "        [[ 1.9271,  1.4316, -1.0644,  0.7279, -0.2573,  0.8141,  0.7992,\n",
      "           0.5950, -0.0411,  1.1367, -0.8156,  1.3591, -0.0407, -0.3058,\n",
      "           0.1911, -0.1502],\n",
      "         [ 0.9336, -0.5197,  0.6133,  1.4239, -0.2088,  0.6388,  0.0661,\n",
      "          -0.2356,  0.0316, -0.1286, -0.5737,  0.6740,  1.3765,  0.5369,\n",
      "          -0.5896, -1.7138],\n",
      "         [ 0.9336, -0.5197,  0.6133,  1.4239, -0.2088,  0.6388,  0.0661,\n",
      "          -0.2356,  0.0316, -0.1286, -0.5737,  0.6740,  1.3765,  0.5369,\n",
      "          -0.5896, -1.7138]],\n",
      "\n",
      "        [[ 0.4444,  0.5052,  1.2067,  1.9365,  0.3248,  1.7097,  0.8108,\n",
      "          -1.9328, -0.1179, -1.0398, -0.2712,  0.4724,  2.2838,  0.6347,\n",
      "          -1.4750, -0.9735],\n",
      "         [ 0.9336, -0.5197,  0.6133,  1.4239, -0.2088,  0.6388,  0.0661,\n",
      "          -0.2356,  0.0316, -0.1286, -0.5737,  0.6740,  1.3765,  0.5369,\n",
      "          -0.5896, -1.7138],\n",
      "         [ 0.9336, -0.5197,  0.6133,  1.4239, -0.2088,  0.6388,  0.0661,\n",
      "          -0.2356,  0.0316, -0.1286, -0.5737,  0.6740,  1.3765,  0.5369,\n",
      "          -0.5896, -1.7138]],\n",
      "\n",
      "        [[ 0.9336, -0.5197,  0.6133,  1.4239, -0.2088,  0.6388,  0.0661,\n",
      "          -0.2356,  0.0316, -0.1286, -0.5737,  0.6740,  1.3765,  0.5369,\n",
      "          -0.5896, -1.7138],\n",
      "         [ 0.9336, -0.5197,  0.6133,  1.4239, -0.2088,  0.6388,  0.0661,\n",
      "          -0.2356,  0.0316, -0.1286, -0.5737,  0.6740,  1.3765,  0.5369,\n",
      "          -0.5896, -1.7138],\n",
      "         [ 0.9336, -0.5197,  0.6133,  1.4239, -0.2088,  0.6388,  0.0661,\n",
      "          -0.2356,  0.0316, -0.1286, -0.5737,  0.6740,  1.3765,  0.5369,\n",
      "          -0.5896, -1.7138]]])\n"
     ]
    }
   ],
   "source": [
    "Zn_inter_intermediate_result = node_Wn_int[int_indices]\n",
    "\n",
    "print(node_Wn_int[int_indices].shape)\n",
    "print(node_Wn_int[int_indices])"
   ]
  },
  {
   "cell_type": "markdown",
   "id": "b4f89eba",
   "metadata": {},
   "source": [
    "Step 5b: Select all the participating neighbors"
   ]
  },
  {
   "cell_type": "code",
   "execution_count": 10,
   "id": "a0b6a1a7",
   "metadata": {},
   "outputs": [
    {
     "name": "stdout",
     "output_type": "stream",
     "text": [
      "torch.Size([4, 3, 16])\n",
      "tensor([[[ 0.4444,  0.5052,  1.2067,  1.9365,  0.3248,  1.7097,  0.8108,\n",
      "          -1.9328, -0.1179, -1.0398, -0.2712,  0.4724,  2.2838,  0.6347,\n",
      "          -1.4750, -0.9735],\n",
      "         [-0.4510, -0.1511, -1.5775,  0.7738,  1.8250,  0.7037, -2.6085,\n",
      "           0.6280,  2.0199, -0.5045,  1.0678,  0.5699,  0.8970, -0.3461,\n",
      "           2.0094, -0.9390],\n",
      "         [ 0.0000, -0.0000,  0.0000,  0.0000, -0.0000,  0.0000,  0.0000,\n",
      "          -0.0000,  0.0000, -0.0000, -0.0000,  0.0000,  0.0000,  0.0000,\n",
      "          -0.0000, -0.0000]],\n",
      "\n",
      "        [[ 1.9271,  1.4316, -1.0644,  0.7279, -0.2573,  0.8141,  0.7992,\n",
      "           0.5950, -0.0411,  1.1367, -0.8156,  1.3591, -0.0407, -0.3058,\n",
      "           0.1911, -0.1502],\n",
      "         [ 0.0000, -0.0000,  0.0000,  0.0000, -0.0000,  0.0000,  0.0000,\n",
      "          -0.0000,  0.0000, -0.0000, -0.0000,  0.0000,  0.0000,  0.0000,\n",
      "          -0.0000, -0.0000],\n",
      "         [ 0.0000, -0.0000,  0.0000,  0.0000, -0.0000,  0.0000,  0.0000,\n",
      "          -0.0000,  0.0000, -0.0000, -0.0000,  0.0000,  0.0000,  0.0000,\n",
      "          -0.0000, -0.0000]],\n",
      "\n",
      "        [[ 0.4444,  0.5052,  1.2067,  1.9365,  0.3248,  1.7097,  0.8108,\n",
      "          -1.9328, -0.1179, -1.0398, -0.2712,  0.4724,  2.2838,  0.6347,\n",
      "          -1.4750, -0.9735],\n",
      "         [ 0.0000, -0.0000,  0.0000,  0.0000, -0.0000,  0.0000,  0.0000,\n",
      "          -0.0000,  0.0000, -0.0000, -0.0000,  0.0000,  0.0000,  0.0000,\n",
      "          -0.0000, -0.0000],\n",
      "         [ 0.0000, -0.0000,  0.0000,  0.0000, -0.0000,  0.0000,  0.0000,\n",
      "          -0.0000,  0.0000, -0.0000, -0.0000,  0.0000,  0.0000,  0.0000,\n",
      "          -0.0000, -0.0000]],\n",
      "\n",
      "        [[ 0.0000, -0.0000,  0.0000,  0.0000, -0.0000,  0.0000,  0.0000,\n",
      "          -0.0000,  0.0000, -0.0000, -0.0000,  0.0000,  0.0000,  0.0000,\n",
      "          -0.0000, -0.0000],\n",
      "         [ 0.0000, -0.0000,  0.0000,  0.0000, -0.0000,  0.0000,  0.0000,\n",
      "          -0.0000,  0.0000, -0.0000, -0.0000,  0.0000,  0.0000,  0.0000,\n",
      "          -0.0000, -0.0000],\n",
      "         [ 0.0000, -0.0000,  0.0000,  0.0000, -0.0000,  0.0000,  0.0000,\n",
      "          -0.0000,  0.0000, -0.0000, -0.0000,  0.0000,  0.0000,  0.0000,\n",
      "          -0.0000, -0.0000]]])\n"
     ]
    }
   ],
   "source": [
    "Zn_inter_intermediate_result = node_Wn_int[int_indices] * int_part\n",
    "\n",
    "print(Zn_inter_intermediate_result.shape)\n",
    "print(Zn_inter_intermediate_result)"
   ]
  },
  {
   "cell_type": "markdown",
   "id": "3bfb58c3",
   "metadata": {},
   "source": [
    "Step 5c: Scale each of the participating neighbor by its edge weight\n",
    "\n",
    "$\\mathbf{W}^{(l)}_{int} h^{(l-1)}_j \\bigodot E_{ij}$"
   ]
  },
  {
   "cell_type": "code",
   "execution_count": 11,
   "id": "6fad5be9",
   "metadata": {},
   "outputs": [
    {
     "name": "stdout",
     "output_type": "stream",
     "text": [
      "torch.Size([4, 3, 16])\n",
      "tensor([[[ 0.4000,  0.4547,  1.0861,  1.7428,  0.2923,  1.5387,  0.7297,\n",
      "          -1.7395, -0.1061, -0.9358, -0.2441,  0.4251,  2.0554,  0.5712,\n",
      "          -1.3275, -0.8762],\n",
      "         [-0.0902, -0.0302, -0.3155,  0.1548,  0.3650,  0.1407, -0.5217,\n",
      "           0.1256,  0.4040, -0.1009,  0.2136,  0.1140,  0.1794, -0.0692,\n",
      "           0.4019, -0.1878],\n",
      "         [-0.0000,  0.0000, -0.0000, -0.0000,  0.0000, -0.0000, -0.0000,\n",
      "           0.0000, -0.0000,  0.0000,  0.0000, -0.0000, -0.0000, -0.0000,\n",
      "           0.0000,  0.0000]],\n",
      "\n",
      "        [[ 0.1927,  0.1432, -0.1064,  0.0728, -0.0257,  0.0814,  0.0799,\n",
      "           0.0595, -0.0041,  0.1137, -0.0816,  0.1359, -0.0041, -0.0306,\n",
      "           0.0191, -0.0150],\n",
      "         [-0.0000,  0.0000, -0.0000, -0.0000,  0.0000, -0.0000, -0.0000,\n",
      "           0.0000, -0.0000,  0.0000,  0.0000, -0.0000, -0.0000, -0.0000,\n",
      "           0.0000,  0.0000],\n",
      "         [-0.0000,  0.0000, -0.0000, -0.0000,  0.0000, -0.0000, -0.0000,\n",
      "           0.0000, -0.0000,  0.0000,  0.0000, -0.0000, -0.0000, -0.0000,\n",
      "           0.0000,  0.0000]],\n",
      "\n",
      "        [[ 0.2222,  0.2526,  0.6034,  0.9682,  0.1624,  0.8548,  0.4054,\n",
      "          -0.9664, -0.0590, -0.5199, -0.1356,  0.2362,  1.1419,  0.3173,\n",
      "          -0.7375, -0.4868],\n",
      "         [-0.0000,  0.0000, -0.0000, -0.0000,  0.0000, -0.0000, -0.0000,\n",
      "           0.0000, -0.0000,  0.0000,  0.0000, -0.0000, -0.0000, -0.0000,\n",
      "           0.0000,  0.0000],\n",
      "         [-0.0000,  0.0000, -0.0000, -0.0000,  0.0000, -0.0000, -0.0000,\n",
      "           0.0000, -0.0000,  0.0000,  0.0000, -0.0000, -0.0000, -0.0000,\n",
      "           0.0000,  0.0000]],\n",
      "\n",
      "        [[-0.0000,  0.0000, -0.0000, -0.0000,  0.0000, -0.0000, -0.0000,\n",
      "           0.0000, -0.0000,  0.0000,  0.0000, -0.0000, -0.0000, -0.0000,\n",
      "           0.0000,  0.0000],\n",
      "         [-0.0000,  0.0000, -0.0000, -0.0000,  0.0000, -0.0000, -0.0000,\n",
      "           0.0000, -0.0000,  0.0000,  0.0000, -0.0000, -0.0000, -0.0000,\n",
      "           0.0000,  0.0000],\n",
      "         [-0.0000,  0.0000, -0.0000, -0.0000,  0.0000, -0.0000, -0.0000,\n",
      "           0.0000, -0.0000,  0.0000,  0.0000, -0.0000, -0.0000, -0.0000,\n",
      "           0.0000,  0.0000]]])\n"
     ]
    }
   ],
   "source": [
    "Zn_inter_intermediate_result = node_Wn_int[int_indices] * int_part * int_edges\n",
    "\n",
    "print(Zn_inter_intermediate_result.shape)\n",
    "print(Zn_inter_intermediate_result)"
   ]
  },
  {
   "cell_type": "markdown",
   "id": "a42a587c",
   "metadata": {},
   "source": [
    "Step 5d: Sum all the neighbors of an atom\n",
    "\n",
    "$\\sum_{j \\epsilon N_i^{(int)}} \\mathbf{W}^{(l)}_{int} h^{(l-1)}_j \\bigodot E_{ij}$"
   ]
  },
  {
   "cell_type": "code",
   "execution_count": 12,
   "id": "aac47740",
   "metadata": {},
   "outputs": [
    {
     "name": "stdout",
     "output_type": "stream",
     "text": [
      "torch.Size([4, 16])\n",
      "tensor([[ 0.3098,  0.4244,  0.7706,  1.8976,  0.6573,  1.6794,  0.2080, -1.6139,\n",
      "          0.2978, -1.0368, -0.0306,  0.5391,  2.2348,  0.5020, -0.9257, -1.0640],\n",
      "        [ 0.1927,  0.1432, -0.1064,  0.0728, -0.0257,  0.0814,  0.0799,  0.0595,\n",
      "         -0.0041,  0.1137, -0.0816,  0.1359, -0.0041, -0.0306,  0.0191, -0.0150],\n",
      "        [ 0.2222,  0.2526,  0.6034,  0.9682,  0.1624,  0.8548,  0.4054, -0.9664,\n",
      "         -0.0590, -0.5199, -0.1356,  0.2362,  1.1419,  0.3173, -0.7375, -0.4868],\n",
      "        [ 0.0000,  0.0000,  0.0000,  0.0000,  0.0000,  0.0000,  0.0000,  0.0000,\n",
      "          0.0000,  0.0000,  0.0000,  0.0000,  0.0000,  0.0000,  0.0000,  0.0000]])\n"
     ]
    }
   ],
   "source": [
    "Zn_inter_intermediate_result = torch.sum(node_Wn_int[int_indices] * int_part * int_edges, 1)\n",
    "\n",
    "print(Zn_inter_intermediate_result.shape)\n",
    "print(Zn_inter_intermediate_result)"
   ]
  },
  {
   "cell_type": "markdown",
   "id": "32b3bc37",
   "metadata": {},
   "source": [
    "Step 5e: Divide with the number of atoms in interface graph"
   ]
  },
  {
   "cell_type": "markdown",
   "id": "e4bfc250",
   "metadata": {},
   "source": [
    "$\\frac{1}{|N_i^{(int)}|}\\sum_{j \\epsilon N_i^{(int)}} \\mathbf{W}^{(l)}_{int} h^{(l-1)}_j \\bigodot E_{ij} $"
   ]
  },
  {
   "cell_type": "code",
   "execution_count": 13,
   "id": "77ec9a61",
   "metadata": {},
   "outputs": [
    {
     "name": "stdout",
     "output_type": "stream",
     "text": [
      "torch.Size([4, 16])\n",
      "tensor([[ 0.1549,  0.2122,  0.3853,  0.9488,  0.3287,  0.8397,  0.1040, -0.8069,\n",
      "          0.1489, -0.5184, -0.0153,  0.2696,  1.1174,  0.2510, -0.4628, -0.5320],\n",
      "        [ 0.1927,  0.1432, -0.1064,  0.0728, -0.0257,  0.0814,  0.0799,  0.0595,\n",
      "         -0.0041,  0.1137, -0.0816,  0.1359, -0.0041, -0.0306,  0.0191, -0.0150],\n",
      "        [ 0.2222,  0.2526,  0.6034,  0.9682,  0.1624,  0.8548,  0.4054, -0.9664,\n",
      "         -0.0590, -0.5199, -0.1356,  0.2362,  1.1419,  0.3173, -0.7375, -0.4868],\n",
      "        [ 0.0000,  0.0000,  0.0000,  0.0000,  0.0000,  0.0000,  0.0000,  0.0000,\n",
      "          0.0000,  0.0000,  0.0000,  0.0000,  0.0000,  0.0000,  0.0000,  0.0000]])\n"
     ]
    }
   ],
   "source": [
    "Zn_inter = torch.sum(node_Wn_int[int_indices] * int_part * int_edges, 1) / no_of_neighs_int\n",
    "\n",
    "print(Zn_inter.shape)\n",
    "print(Zn_inter)"
   ]
  },
  {
   "cell_type": "markdown",
   "id": "b380a035",
   "metadata": {},
   "source": [
    "### GCN Layer code"
   ]
  },
  {
   "cell_type": "code",
   "execution_count": 14,
   "id": "826c61bd",
   "metadata": {},
   "outputs": [],
   "source": [
    "class GCN_layer(nn.Module):\n",
    "\n",
    "    def __init__(self, v_feats, filters, dropout=0.1, bias=True, trainable=True, **kwargs):\n",
    "\n",
    "        super(GCN_layer, self).__init__()\n",
    "\n",
    "        self.v_feats = v_feats\n",
    "        self.filters = filters\n",
    "        self.dropout= dropout\n",
    "        self.bias = bias\n",
    "        self.trainable = trainable\n",
    "        \n",
    "        use_cuda = torch.cuda.is_available()\n",
    "        self.device = torch.device(\"cuda:0\" if use_cuda else \"cpu\")\n",
    "        \n",
    "        # Define non-linear function\n",
    "        self.non_lin = nn.LeakyReLU()\n",
    "\n",
    "        # Initialize dropout\n",
    "        self.drop_layer = nn.Dropout(p=self.dropout)\n",
    "       \n",
    "        # Initialize learnable parameters\n",
    "        self.Wvc = nn.Parameter(\n",
    "                    init.kaiming_uniform_(\n",
    "                        torch.randn(self.v_feats, self.filters, requires_grad=self.trainable))\n",
    "                            .type(torch.float).to(self.device))  # (v_dims, filters)\n",
    "        self.Wvn_int = nn.Parameter(\n",
    "                        init.kaiming_uniform_(\n",
    "                            torch.randn(self.v_feats, self.filters, requires_grad=self.trainable))\n",
    "                                .type(torch.float).to(self.device))  # (v_dims, filters)\n",
    "        self.Wvn_prot = nn.Parameter(\n",
    "                        init.kaiming_uniform_(\n",
    "                            torch.randn(self.v_feats, self.filters, requires_grad=self.trainable))\n",
    "                                .type(torch.float).to(self.device))  # (v_dims, filters)\n",
    "        self.bv = nn.Parameter(\n",
    "                        torch.zeros(self.filters, requires_grad=self.trainable)\n",
    "                            .type(torch.float).to(self.device))\n",
    "        \n",
    "        \n",
    "    def forward(self, x):\n",
    "\n",
    "        node_feat, prot_indices, int_indices, prot_edges, int_edges = x\n",
    "\n",
    "        # generate center node signals\n",
    "        Zc = torch.matmul(node_feat, self.Wvc)  # (n_verts, filters)\n",
    "\n",
    "        # create neighbor signals\n",
    "        v_Wvn_int = torch.matmul(node_feat, self.Wvn_int)  # (n_verts, filters)\n",
    "        v_Wvn_prot = torch.matmul(node_feat, self.Wvn_prot)  # (n_verts, filters)\n",
    "        \n",
    "        # Find participating neighbors of the interface and protein graph in Graph Convolution \n",
    "        int_part = torch.unsqueeze(int_indices > -1, 2).type(torch.float)\n",
    "        prot_part = torch.unsqueeze(prot_indices > -1, 2).type(torch.float)\n",
    "\n",
    "        # Find the number of neighbors per atom\n",
    "        no_of_neighs_int = torch.sum(int_indices > -1, 1).unsqueeze(1).to(self.device).type(torch.float)\n",
    "        no_of_neighs_prot = torch.sum(prot_indices > -1, 1).unsqueeze(1).to(self.device).type(torch.float)\n",
    "        no_of_neighs_int[no_of_neighs_int == 0] = 1\n",
    "        no_of_neighs_prot[no_of_neighs_prot == 0] = 1\n",
    "        \n",
    "        # Expand interface and neighborh edge matrices to allow scalar multiplication\n",
    "        if(len(int_edges.size()) != 3):\n",
    "            int_edges = torch.unsqueeze(int_edges, 2)\n",
    "            prot_edges = torch.unsqueeze(prot_edges, 2)\n",
    "\n",
    "        # Generate neighbor signals w.r.t the interface and protein graph\n",
    "        Zn_inter = torch.sum(v_Wvn_int[int_indices] * int_part * int_edges, 1) / no_of_neighs_int\n",
    "        Zn_prot = torch.sum(v_Wvn_prot[prot_indices] * prot_part * prot_edges, 1) / no_of_neighs_prot\n",
    "\n",
    "        # Combine central and neighbor signals\n",
    "        Z = Zc + Zn_inter + Zn_prot\n",
    "\n",
    "        # Add bias\n",
    "        if self.bias:\n",
    "            Z += self.bv\n",
    "\n",
    "        # Apply activation function\n",
    "        h = self.non_lin(Z)\n",
    "\n",
    "        # Apply dropout\n",
    "        if self.dropout:\n",
    "            h = self.drop_layer(h)\n",
    "\n",
    "\n",
    "        return [h, prot_indices, int_indices, prot_edges, int_edges]"
   ]
  },
  {
   "cell_type": "markdown",
   "id": "d029d4b4",
   "metadata": {},
   "source": [
    "## Define Graph Neural network"
   ]
  },
  {
   "cell_type": "code",
   "execution_count": 15,
   "id": "f3f6b4de",
   "metadata": {},
   "outputs": [],
   "source": [
    "class GNN(torch.nn.Module):\n",
    "    \"\"\"\n",
    "        GCN + Normalize pool + L1-loss\n",
    "    \"\"\"\n",
    "    def __init__(self):\n",
    "        super(GNN, self).__init__()\n",
    "\n",
    "        # Define neural network layers\n",
    "        self.conv1 = GCN_layer(v_feats=11, filters=16, dropout=0.1)\n",
    "        self.conv2 = GCN_layer(v_feats=16, filters=32, dropout=0.1)\n",
    "        self.conv3 = GCN_layer(v_feats=32, filters=64, dropout=0.1)\n",
    "        self.dense = Dense(in_dims=64, out_dims=1, nonlin=\"linear\")\n",
    "\n",
    "        # Define optimizer\n",
    "        self.optimizer = optim.Adam(self.parameters(), lr=0.01, weight_decay=0.0001)\n",
    "\n",
    "    def forward(self, x):\n",
    "        \n",
    "        # GCN layers\n",
    "        x = self.conv1(x)\n",
    "        x = self.conv2(x)\n",
    "        x = self.conv3(x)\n",
    "        x = x[0]\n",
    "        # each row of x is now a feature vector.\n",
    "\n",
    "        # Graph pooling\n",
    "        x = torch.sum(x, 0).view(1, -1)\n",
    "        x = F.normalize(x)\n",
    "\n",
    "        # Dense layer\n",
    "        x = self.dense(x)\n",
    "        x = torch.squeeze(x, 1)\n",
    "\n",
    "        return x\n",
    "\n",
    "    def loss(self, output, target, reduction='mean'):\n",
    "        # Define loss function\n",
    "        return F.l1_loss(output, target, reduction=reduction)"
   ]
  },
  {
   "cell_type": "markdown",
   "id": "710e09f6",
   "metadata": {},
   "source": [
    "## Initialize Graph Neural Network"
   ]
  },
  {
   "cell_type": "code",
   "execution_count": 16,
   "id": "c67b07c0",
   "metadata": {},
   "outputs": [],
   "source": [
    "model = GNN().to(device)"
   ]
  },
  {
   "cell_type": "markdown",
   "id": "eec8f9e8",
   "metadata": {},
   "source": [
    "## Initialize PyTorch data loader and data sampler"
   ]
  },
  {
   "cell_type": "code",
   "execution_count": 17,
   "id": "7fb132c1",
   "metadata": {},
   "outputs": [
    {
     "name": "stdout",
     "output_type": "stream",
     "text": [
      "No. of train complexes: 3\n",
      "No. of test complexes: 2\n"
     ]
    }
   ],
   "source": [
    "dataset_path = \"data\"\n",
    "\n",
    "# Train dataset generator \n",
    "train_dataset = Dataset(dataset_path, \"train\")\n",
    "train_params = {'sampler': CustomSampler(batch_complexes = 2,\n",
    "                                   decoys_per_complex = 50,\n",
    "                                   dataset_path = dataset_path,\n",
    "                                   dataset_cat = \"train\",\n",
    "                                   random_sample = True),\n",
    "          'num_workers': 0,\n",
    "          'collate_fn' : lambda x: x[0]}\n",
    "training_generator = data.DataLoader(train_dataset, **train_params)\n",
    "\n",
    "# Test dataset generator\n",
    "test_dataset = Dataset(dataset_path, \"test\")\n",
    "test_params = {'sampler': CustomSampler(batch_complexes = 2,\n",
    "                                   decoys_per_complex = 50,\n",
    "                                   dataset_path = dataset_path,\n",
    "                                   dataset_cat = \"test\"),\n",
    "          'num_workers': 0,\n",
    "          'collate_fn' : lambda x: x[0]}\n",
    "test_generator = data.DataLoader(test_dataset, **test_params)"
   ]
  },
  {
   "cell_type": "markdown",
   "id": "9819549a",
   "metadata": {},
   "source": [
    "## Train model"
   ]
  },
  {
   "cell_type": "code",
   "execution_count": 18,
   "id": "e0d59a1f",
   "metadata": {},
   "outputs": [
    {
     "name": "stdout",
     "output_type": "stream",
     "text": [
      "Epoch 1 loss : 1.4782438278198242\n",
      "Epoch 2 loss : 1.2398577630519867\n",
      "Epoch 3 loss : 0.4327930845320225\n",
      "Epoch 4 loss : 0.9369983077049255\n",
      "Epoch 5 loss : 0.42369863390922546\n",
      "Epoch 6 loss : 0.32311929762363434\n",
      "Epoch 7 loss : 0.524371325969696\n",
      "Epoch 8 loss : 0.39155422151088715\n",
      "Epoch 9 loss : 0.10645942855626345\n",
      "Epoch 10 loss : 0.27297094464302063\n"
     ]
    }
   ],
   "source": [
    "epochs = 10\n",
    "mini_batches_per_epoch = 30\n",
    "\n",
    "loss = []\n",
    "\n",
    "for epoch in range(0, epochs):\n",
    "    \n",
    "    loss_ = train(model, device, training_generator, model.optimizer, epoch, mini_batches_per_epoch)\n",
    "    \n",
    "    loss.append(loss_)\n",
    "    \n",
    "    print(\"Epoch \" + str(epoch+1)+ \" loss : \" + str(loss_))\n",
    "    "
   ]
  },
  {
   "cell_type": "markdown",
   "id": "4e40c945",
   "metadata": {},
   "source": [
    "## Plot loss function"
   ]
  },
  {
   "cell_type": "code",
   "execution_count": 19,
   "id": "0bd7e019",
   "metadata": {},
   "outputs": [
    {
     "data": {
      "image/png": "[encoded data removed]",
      "text/plain": [
       "<Figure size 432x288 with 1 Axes>"
      ]
     },
     "metadata": {
      "needs_background": "light"
     },
     "output_type": "display_data"
    }
   ],
   "source": [
    "epoch_list = list(range(1, epochs+1))\n",
    "epoch_losses = list(zip(epoch_list, loss))\n",
    "\n",
    "loss_df = pd.DataFrame(epoch_losses, columns=[\"Epoch\", \"Train loss\"])\n",
    "\n",
    "lines = loss_df.plot.line(x=\"Epoch\", y=\"Train loss\")\n"
   ]
  },
  {
   "cell_type": "markdown",
   "id": "9d41fe96",
   "metadata": {},
   "source": [
    "## Test model"
   ]
  },
  {
   "cell_type": "code",
   "execution_count": 20,
   "id": "374da1da",
   "metadata": {},
   "outputs": [
    {
     "name": "stdout",
     "output_type": "stream",
     "text": [
      "Number of complexes in the test set for which the decoys above a DockQ value of 0.65 are ranked in the top-n\n",
      "Total number of complexes in test set: 2\n",
      "\n",
      "Top 1 : 0 complexes\n",
      "Top 5 : 0 complexes\n",
      "Top 10 : 0 complexes\n",
      "Top 20 : 0 complexes\n",
      "Top 50 : 0 complexes\n"
     ]
    }
   ],
   "source": [
    "dockq_threshold = 0.65\n",
    "top_ns = [1, 5, 10, 20, 50]\n",
    "\n",
    "top_n_results, scores_dockq = test(model, device, test_generator, dockq_threshold, top_ns)\n",
    "\n",
    "print(\"Number of complexes in the test set for which the decoys above a DockQ value of \" + str(dockq_threshold) + \n",
    "      \" are ranked in the top-n\")\n",
    "print(\"Total number of complexes in test set: \" + str(len(test_dataset)) + \"\\n\")\n",
    "for i in range(len(top_ns)):\n",
    "    print(\"Top \" + str(top_ns[i]) + \" : \" + str(top_n_results[i]) + \" complexes\")\n",
    "    "
   ]
  },
  {
   "cell_type": "markdown",
   "id": "919e4000",
   "metadata": {},
   "source": [
    "### Test complex 1 results"
   ]
  },
  {
   "cell_type": "code",
   "execution_count": 21,
   "id": "0cd19945",
   "metadata": {},
   "outputs": [
    {
     "data": {
      "image/png": "[encoded data removed]",
      "text/plain": [
       "<Figure size 576x360 with 1 Axes>"
      ]
     },
     "metadata": {
      "needs_background": "light"
     },
     "output_type": "display_data"
    }
   ],
   "source": [
    "show_results(\"1b6c\", scores_dockq)"
   ]
  },
  {
   "cell_type": "markdown",
   "id": "f44b1f5e",
   "metadata": {},
   "source": [
    "### Test complex 2 results"
   ]
  },
  {
   "cell_type": "code",
   "execution_count": 22,
   "id": "2227d8e7",
   "metadata": {},
   "outputs": [
    {
     "data": {
      "image/png": "[encoded data removed]",
      "text/plain": [
       "<Figure size 576x360 with 1 Axes>"
      ]
     },
     "metadata": {
      "needs_background": "light"
     },
     "output_type": "display_data"
    }
   ],
   "source": [
    "show_results(\"1e6e\", scores_dockq)"
   ]
  }
 ],
 "metadata": {
  "kernelspec": {
   "display_name": "Python 3",
   "language": "python",
   "name": "python3"
  },
  "language_info": {
   "codemirror_mode": {
    "name": "ipython",
    "version": 3
   },
   "file_extension": ".py",
   "mimetype": "text/x-python",
   "name": "python",
   "nbconvert_exporter": "python",
   "pygments_lexer": "ipython3",
   "version": "3.6.8"
  }
 },
 "nbformat": 4,
 "nbformat_minor": 5
}
