{
  "nbformat": 4,
  "nbformat_minor": 5,
  "metadata": {
    "kernelspec": {
      "display_name": "Python 3",
      "language": "python",
      "name": "python3"
    },
    "language_info": {
      "codemirror_mode": {
        "name": "ipython",
        "version": 3
      },
      "file_extension": ".py",
      "mimetype": "text/x-python",
      "name": "python",
      "nbconvert_exporter": "python",
      "pygments_lexer": "ipython3",
      "version": "3.6.8"
    },
    "colab": {
      "name": "Ranking protein-protein interfaces using Graph Convolution.ipynb",
      "provenance": [],
      "include_colab_link": true
    },
    "accelerator": "GPU"
  },
  "cells": [
    {
      "cell_type": "markdown",
      "metadata": {
        "id": "view-in-github",
        "colab_type": "text"
      },
      "source": [
        "<a href=\"https://colab.research.google.com/github/Kabongosalomon/Demo-Ranking-protein-protein-interfaces-using-GNN/blob/master/Ranking%20protein-protein%20interfaces%20using%20Graph%20Convolution.ipynb\" target=\"_parent\"><img src=\"https://colab.research.google.com/assets/colab-badge.svg\" alt=\"Open In Colab\"/></a>"
      ]
    },
    {
      "cell_type": "markdown",
      "metadata": {
        "id": "6f137f93"
      },
      "source": [
        "# Demo for ranking protein-protein interfaces using Graph Convolution"
      ],
      "id": "6f137f93"
    },
    {
      "cell_type": "markdown",
      "metadata": {
        "id": "c6ee0e26"
      },
      "source": [
        "## Project setup"
      ],
      "id": "c6ee0e26"
    },
    {
      "cell_type": "code",
      "metadata": {
        "id": "b4218de3",
        "outputId": "b24b9322-da0e-4b35-d763-f8bba2265005",
        "colab": {
          "base_uri": "https://localhost:8080/"
        }
      },
      "source": [
        "# Copying data and code from GitHub repository\n",
        "!git clone https://github.com/withai/Demo-Ranking-protein-protein-interfaces-using-GNN.git\n",
        "!mv Demo-Ranking-protein-protein-interfaces-using-GNN/* .\n",
        "!rm -r Demo-Ranking-protein-protein-interfaces-using-GNN"
      ],
      "id": "b4218de3",
      "execution_count": 1,
      "outputs": [
        {
          "output_type": "stream",
          "text": [
            "Cloning into 'Demo-Ranking-protein-protein-interfaces-using-GNN'...\n",
            "remote: Enumerating objects: 5116, done.\u001b[K\n",
            "remote: Total 5116 (delta 0), reused 0 (delta 0), pack-reused 5116\u001b[K\n",
            "Receiving objects: 100% (5116/5116), 825.15 MiB | 27.55 MiB/s, done.\n",
            "Resolving deltas: 100% (4008/4008), done.\n",
            "Checking out files: 100% (5015/5015), done.\n"
          ],
          "name": "stdout"
        }
      ]
    },
    {
      "cell_type": "markdown",
      "metadata": {
        "id": "ffbac141"
      },
      "source": [
        "## Import libraries"
      ],
      "id": "ffbac141"
    },
    {
      "cell_type": "code",
      "metadata": {
        "id": "6d89e241"
      },
      "source": [
        "# Import PyTorch\n",
        "import torch\n",
        "import torch.backends.cudnn as cudnn\n",
        "from torch.utils import data\n",
        "import torch.nn.functional as F\n",
        "import torch.nn as nn\n",
        "import torch.optim as optim\n",
        "from torch.utils import data\n",
        "import torch.nn.init as init\n",
        "\n",
        "# Import Neural Network layer\n",
        "from nn import Dense\n",
        "\n",
        "# Import utility functions\n",
        "from dataset import Dataset\n",
        "from sampler import CustomSampler\n",
        "from train import train\n",
        "from test import test\n",
        "\n",
        "# Import libraries for graphing\n",
        "import pandas as pd\n",
        "import numpy as np\n",
        "from graph import show_results\n",
        "import matplotlib.pyplot as plt\n",
        "%matplotlib inline\n",
        "\n"
      ],
      "id": "6d89e241",
      "execution_count": 2,
      "outputs": []
    },
    {
      "cell_type": "markdown",
      "metadata": {
        "id": "3cb4db1a"
      },
      "source": [
        "## Run computation on GPU or CPU"
      ],
      "id": "3cb4db1a"
    },
    {
      "cell_type": "code",
      "metadata": {
        "scrolled": true,
        "id": "5ca523ac"
      },
      "source": [
        "use_cuda = torch.cuda.is_available()\n",
        "device = torch.device(\"cuda:0\" if use_cuda else \"cpu\")"
      ],
      "id": "5ca523ac",
      "execution_count": 3,
      "outputs": []
    },
    {
      "cell_type": "markdown",
      "metadata": {
        "id": "039ba253"
      },
      "source": [
        "## Define Graph Convolution layer"
      ],
      "id": "039ba253"
    },
    {
      "cell_type": "markdown",
      "metadata": {
        "id": "34e5920f"
      },
      "source": [
        "$$\n",
        "h^{(l)}_i = \\sigma \\left(\\mathbf{W}^{(l)}_c h^{(l-1)}_i +\n",
        "    \\frac{1}{|N_i^{(int)}|}\\sum_{j \\epsilon N_i^{(int)}} \\mathbf{W}^{(l)}_{int} h^{(l-1)}_j \\bigodot E_{ij} \\right.  \\left. + \\frac{1}{|N_i^{(prot)}|}\\sum_{j \\epsilon N_i^{(prot)}} \\mathbf{W}^{(l)}_{prot} h^{(l-1)}_j \\bigodot E_{ij} + b^{(l)} \\vphantom{\\frac{1}{|N_i^{(neigh)}|}}\\right)\n",
        "$$\n",
        "\n",
        "\n",
        "where for the layer $l$,  \n",
        "\n",
        "$\\mathbf{W}^{(l)}_c$ is the weight matrix for learning representations w.r.t central node,\n",
        "\n",
        "$\\mathbf{W}^{(l)}_{int}$ and $\\mathbf{W}^{(l)}_{prot}$ are the weight matrix for learning representations w.r.t the neighbor nodes in the interface graph and the protein graph respectively,\n",
        "\n",
        "$b^{(l)}$ is the bias vector, \n",
        "\n",
        "$h^{(l)}_i$ is the hidden node embedding of node $i$,\n",
        "\n",
        "$N_i^{(int)}$ is the number of atoms surrounding node $i$ in the interface graph, \n",
        "\n",
        "$N_i^{(prot)}$ is the number of atoms surrounding node $i$ in the protein graph, \n",
        "\n",
        "$\\sigma$  is the activation function, and\n",
        "\n",
        "$E_{ij}$ is the value in the edge matrix between node $i$ and node $j$."
      ],
      "id": "34e5920f"
    },
    {
      "cell_type": "markdown",
      "metadata": {
        "id": "0acd3872"
      },
      "source": [
        "### How does computing neighborhood signals look like in the code?\n",
        "\n",
        "Let's compute neighborhood signals in the interface graph\n",
        "\n",
        "$\n",
        "\\begin{align}\n",
        "\\frac{1}{|N_i^{(int)}|}\\sum_{j \\epsilon N_i^{(int)}} \\mathbf{W}^{(l)}_{int} h^{(l-1)}_j \\bigodot E_{ij} \n",
        "\\end{align}\n",
        "$"
      ],
      "id": "0acd3872"
    },
    {
      "cell_type": "markdown",
      "metadata": {
        "id": "62c3f487"
      },
      "source": [
        "**Define all the variables**"
      ],
      "id": "62c3f487"
    },
    {
      "cell_type": "code",
      "metadata": {
        "id": "65a0759a"
      },
      "source": [
        "# node features: One-hot encoding of 11 different atom types\n",
        "node_feat = torch.tensor([\n",
        "                            [0, 1, 0, 0, 0, 0, 0, 0, 0, 0, 0], # atom 1\n",
        "                            [0, 0, 0, 0, 0, 0, 0, 0, 0, 0, 1], # atom 2\n",
        "                            [0, 0, 0, 0, 1, 0, 0, 0, 0, 0, 0], # atom 3\n",
        "                            [1, 0, 0, 0, 0, 0, 0, 0, 0, 0, 0], # atom 4 \n",
        "                        ]).type(torch.float)\n",
        "\n",
        "# indices of neighbor atoms in interface graph\n",
        "int_indices = torch.tensor([\n",
        "                            [1, 2, -1],  # neighbors of atom 1\n",
        "                            [0, -1, -1], # neighbors of atom 2\n",
        "                            [1, -1, -1], # neighbors of atom 3\n",
        "                            [-1, -1, -1] # neighbors of atom 4\n",
        "                          ])\n",
        "\n",
        "# edge weights of neighbor atoms in interface graph\n",
        "int_edges = torch.tensor([\n",
        "                            [0.9, 0.2, -1], # weights of neighbors of atom 1\n",
        "                            [0.1, -1, -1],  # weights of neighbors of atom 2\n",
        "                            [0.5, -1, -1],  # weights of neighbors of atom 3\n",
        "                            [-1, -1, -1]    # weights of neighbors of atom 4\n",
        "                        ])\n",
        "\n",
        "# weight matrix\n",
        "num_of_features = 11\n",
        "filters = 16\n",
        "\n",
        "w_int = torch.randn(num_of_features, filters)\n"
      ],
      "id": "65a0759a",
      "execution_count": 4,
      "outputs": []
    },
    {
      "cell_type": "markdown",
      "metadata": {
        "id": "3f5c4bd2"
      },
      "source": [
        "**Step 1: Compute signals for all the nodes in the graph**"
      ],
      "id": "3f5c4bd2"
    },
    {
      "cell_type": "code",
      "metadata": {
        "id": "83d73ead",
        "outputId": "c146edea-f856-4dcc-c6ff-16104fe65c94",
        "colab": {
          "base_uri": "https://localhost:8080/"
        }
      },
      "source": [
        "node_Wn_int = torch.matmul(node_feat, w_int)\n",
        "\n",
        "print(node_Wn_int.shape)\n",
        "print(node_Wn_int)"
      ],
      "id": "83d73ead",
      "execution_count": 5,
      "outputs": [
        {
          "output_type": "stream",
          "text": [
            "torch.Size([4, 16])\n",
            "tensor([[ 2.3239,  0.4397,  1.5336, -0.0870,  1.4858,  1.0108, -0.4441,  1.3633,\n",
            "          0.1705,  0.8078,  0.1426, -0.9014,  0.8385, -0.6375, -0.3299,  0.5141],\n",
            "        [-0.1769,  0.0370, -1.5215, -0.6729,  0.7768, -0.7116,  1.1419, -0.5748,\n",
            "         -0.1958,  0.8004,  1.2566, -0.4445, -0.3126,  1.4015, -0.9406,  0.1729],\n",
            "        [-0.5156, -0.5575, -0.7002, -0.1588,  0.5325,  1.3170, -1.8414, -0.8167,\n",
            "         -0.4322, -0.4619, -0.4439, -0.0044, -1.1878, -1.6583, -0.2055, -1.4007],\n",
            "        [ 0.0142, -1.6340, -0.3109,  0.7897,  0.0727, -1.3134, -0.7052, -2.8387,\n",
            "          0.8414, -0.2012, -1.1112,  0.0311, -0.7950,  1.5866, -1.2399,  0.5462]])\n"
          ],
          "name": "stdout"
        }
      ]
    },
    {
      "cell_type": "markdown",
      "metadata": {
        "id": "4885a83b"
      },
      "source": [
        "**Step 2: Find all the neighbors of atoms that are participating in the interface graph**"
      ],
      "id": "4885a83b"
    },
    {
      "cell_type": "code",
      "metadata": {
        "id": "52a4f8d7",
        "outputId": "4ae56382-b4a2-43c3-f355-2aab37d6b0ae",
        "colab": {
          "base_uri": "https://localhost:8080/"
        }
      },
      "source": [
        "int_part = torch.unsqueeze(int_indices > -1, 2).type(torch.float)\n",
        "\n",
        "print(int_part.shape)\n",
        "print(int_part)"
      ],
      "id": "52a4f8d7",
      "execution_count": 6,
      "outputs": [
        {
          "output_type": "stream",
          "text": [
            "torch.Size([4, 3, 1])\n",
            "tensor([[[1.],\n",
            "         [1.],\n",
            "         [0.]],\n",
            "\n",
            "        [[1.],\n",
            "         [0.],\n",
            "         [0.]],\n",
            "\n",
            "        [[1.],\n",
            "         [0.],\n",
            "         [0.]],\n",
            "\n",
            "        [[0.],\n",
            "         [0.],\n",
            "         [0.]]])\n"
          ],
          "name": "stdout"
        }
      ]
    },
    {
      "cell_type": "markdown",
      "metadata": {
        "id": "da652e32"
      },
      "source": [
        "**Step 3: For each atom find the number of neighbors participating in the graph**"
      ],
      "id": "da652e32"
    },
    {
      "cell_type": "code",
      "metadata": {
        "id": "70d29ea0",
        "outputId": "381b779d-b3e5-407a-d5cf-dc98fa2fcd83",
        "colab": {
          "base_uri": "https://localhost:8080/"
        }
      },
      "source": [
        "no_of_neighs_int = torch.sum(int_indices > -1, 1).unsqueeze(1)\n",
        "\n",
        "print(no_of_neighs_int.shape)\n",
        "print(no_of_neighs_int)"
      ],
      "id": "70d29ea0",
      "execution_count": 7,
      "outputs": [
        {
          "output_type": "stream",
          "text": [
            "torch.Size([4, 1])\n",
            "tensor([[2],\n",
            "        [1],\n",
            "        [1],\n",
            "        [0]])\n"
          ],
          "name": "stdout"
        }
      ]
    },
    {
      "cell_type": "markdown",
      "metadata": {
        "id": "e5519efa"
      },
      "source": [
        "**Step 4a: Make sure we don't divide by zeros**"
      ],
      "id": "e5519efa"
    },
    {
      "cell_type": "code",
      "metadata": {
        "id": "b7863a54",
        "outputId": "08570857-e4be-4fcd-b28d-71962bf4420c",
        "colab": {
          "base_uri": "https://localhost:8080/"
        }
      },
      "source": [
        "no_of_neighs_int[no_of_neighs_int == 0] = 1\n",
        "\n",
        "print(no_of_neighs_int.shape)\n",
        "print(no_of_neighs_int)"
      ],
      "id": "b7863a54",
      "execution_count": 8,
      "outputs": [
        {
          "output_type": "stream",
          "text": [
            "torch.Size([4, 1])\n",
            "tensor([[2],\n",
            "        [1],\n",
            "        [1],\n",
            "        [1]])\n"
          ],
          "name": "stdout"
        }
      ]
    },
    {
      "cell_type": "markdown",
      "metadata": {
        "id": "81a1d729"
      },
      "source": [
        "**Step 4b: Expand the dimension of edge weights to allow scalar multiplication**"
      ],
      "id": "81a1d729"
    },
    {
      "cell_type": "code",
      "metadata": {
        "id": "5c0c95b8",
        "outputId": "162ffd25-bbc1-4fb9-b28f-403eb8837e21",
        "colab": {
          "base_uri": "https://localhost:8080/"
        }
      },
      "source": [
        "int_edges = torch.unsqueeze(int_edges, 2)\n",
        "\n",
        "print(int_edges.shape)\n",
        "print(int_edges)"
      ],
      "id": "5c0c95b8",
      "execution_count": 9,
      "outputs": [
        {
          "output_type": "stream",
          "text": [
            "torch.Size([4, 3, 1])\n",
            "tensor([[[ 0.9000],\n",
            "         [ 0.2000],\n",
            "         [-1.0000]],\n",
            "\n",
            "        [[ 0.1000],\n",
            "         [-1.0000],\n",
            "         [-1.0000]],\n",
            "\n",
            "        [[ 0.5000],\n",
            "         [-1.0000],\n",
            "         [-1.0000]],\n",
            "\n",
            "        [[-1.0000],\n",
            "         [-1.0000],\n",
            "         [-1.0000]]])\n"
          ],
          "name": "stdout"
        }
      ]
    },
    {
      "cell_type": "markdown",
      "metadata": {
        "id": "19216100"
      },
      "source": [
        "**Step 5: Compute neighbor signals of all the nodes in the interface graph**"
      ],
      "id": "19216100"
    },
    {
      "cell_type": "markdown",
      "metadata": {
        "id": "b33ab2ca"
      },
      "source": [
        "Step 5a: Grab all the neighbors of interface atoms"
      ],
      "id": "b33ab2ca"
    },
    {
      "cell_type": "code",
      "metadata": {
        "id": "7d71f3cb",
        "outputId": "0fb403ce-4bc4-493c-cc8e-70f0f6ac5139",
        "colab": {
          "base_uri": "https://localhost:8080/"
        }
      },
      "source": [
        "Zn_inter_step = node_Wn_int[int_indices]\n",
        "\n",
        "print(Zn_inter_step.shape)\n",
        "print(Zn_inter_step)"
      ],
      "id": "7d71f3cb",
      "execution_count": 10,
      "outputs": [
        {
          "output_type": "stream",
          "text": [
            "torch.Size([4, 3, 16])\n",
            "tensor([[[-0.1769,  0.0370, -1.5215, -0.6729,  0.7768, -0.7116,  1.1419,\n",
            "          -0.5748, -0.1958,  0.8004,  1.2566, -0.4445, -0.3126,  1.4015,\n",
            "          -0.9406,  0.1729],\n",
            "         [-0.5156, -0.5575, -0.7002, -0.1588,  0.5325,  1.3170, -1.8414,\n",
            "          -0.8167, -0.4322, -0.4619, -0.4439, -0.0044, -1.1878, -1.6583,\n",
            "          -0.2055, -1.4007],\n",
            "         [ 0.0142, -1.6340, -0.3109,  0.7897,  0.0727, -1.3134, -0.7052,\n",
            "          -2.8387,  0.8414, -0.2012, -1.1112,  0.0311, -0.7950,  1.5866,\n",
            "          -1.2399,  0.5462]],\n",
            "\n",
            "        [[ 2.3239,  0.4397,  1.5336, -0.0870,  1.4858,  1.0108, -0.4441,\n",
            "           1.3633,  0.1705,  0.8078,  0.1426, -0.9014,  0.8385, -0.6375,\n",
            "          -0.3299,  0.5141],\n",
            "         [ 0.0142, -1.6340, -0.3109,  0.7897,  0.0727, -1.3134, -0.7052,\n",
            "          -2.8387,  0.8414, -0.2012, -1.1112,  0.0311, -0.7950,  1.5866,\n",
            "          -1.2399,  0.5462],\n",
            "         [ 0.0142, -1.6340, -0.3109,  0.7897,  0.0727, -1.3134, -0.7052,\n",
            "          -2.8387,  0.8414, -0.2012, -1.1112,  0.0311, -0.7950,  1.5866,\n",
            "          -1.2399,  0.5462]],\n",
            "\n",
            "        [[-0.1769,  0.0370, -1.5215, -0.6729,  0.7768, -0.7116,  1.1419,\n",
            "          -0.5748, -0.1958,  0.8004,  1.2566, -0.4445, -0.3126,  1.4015,\n",
            "          -0.9406,  0.1729],\n",
            "         [ 0.0142, -1.6340, -0.3109,  0.7897,  0.0727, -1.3134, -0.7052,\n",
            "          -2.8387,  0.8414, -0.2012, -1.1112,  0.0311, -0.7950,  1.5866,\n",
            "          -1.2399,  0.5462],\n",
            "         [ 0.0142, -1.6340, -0.3109,  0.7897,  0.0727, -1.3134, -0.7052,\n",
            "          -2.8387,  0.8414, -0.2012, -1.1112,  0.0311, -0.7950,  1.5866,\n",
            "          -1.2399,  0.5462]],\n",
            "\n",
            "        [[ 0.0142, -1.6340, -0.3109,  0.7897,  0.0727, -1.3134, -0.7052,\n",
            "          -2.8387,  0.8414, -0.2012, -1.1112,  0.0311, -0.7950,  1.5866,\n",
            "          -1.2399,  0.5462],\n",
            "         [ 0.0142, -1.6340, -0.3109,  0.7897,  0.0727, -1.3134, -0.7052,\n",
            "          -2.8387,  0.8414, -0.2012, -1.1112,  0.0311, -0.7950,  1.5866,\n",
            "          -1.2399,  0.5462],\n",
            "         [ 0.0142, -1.6340, -0.3109,  0.7897,  0.0727, -1.3134, -0.7052,\n",
            "          -2.8387,  0.8414, -0.2012, -1.1112,  0.0311, -0.7950,  1.5866,\n",
            "          -1.2399,  0.5462]]])\n"
          ],
          "name": "stdout"
        }
      ]
    },
    {
      "cell_type": "markdown",
      "metadata": {
        "id": "b4f89eba"
      },
      "source": [
        "Step 5b: Select all the participating neighbors"
      ],
      "id": "b4f89eba"
    },
    {
      "cell_type": "code",
      "metadata": {
        "id": "a0b6a1a7",
        "outputId": "fbd58db7-7845-4f5b-a0af-e5b4e93feead",
        "colab": {
          "base_uri": "https://localhost:8080/"
        }
      },
      "source": [
        "Zn_inter_step = node_Wn_int[int_indices] * int_part\n",
        "\n",
        "print(Zn_inter_step.shape)\n",
        "print(Zn_inter_step)"
      ],
      "id": "a0b6a1a7",
      "execution_count": 11,
      "outputs": [
        {
          "output_type": "stream",
          "text": [
            "torch.Size([4, 3, 16])\n",
            "tensor([[[-0.1769,  0.0370, -1.5215, -0.6729,  0.7768, -0.7116,  1.1419,\n",
            "          -0.5748, -0.1958,  0.8004,  1.2566, -0.4445, -0.3126,  1.4015,\n",
            "          -0.9406,  0.1729],\n",
            "         [-0.5156, -0.5575, -0.7002, -0.1588,  0.5325,  1.3170, -1.8414,\n",
            "          -0.8167, -0.4322, -0.4619, -0.4439, -0.0044, -1.1878, -1.6583,\n",
            "          -0.2055, -1.4007],\n",
            "         [ 0.0000, -0.0000, -0.0000,  0.0000,  0.0000, -0.0000, -0.0000,\n",
            "          -0.0000,  0.0000, -0.0000, -0.0000,  0.0000, -0.0000,  0.0000,\n",
            "          -0.0000,  0.0000]],\n",
            "\n",
            "        [[ 2.3239,  0.4397,  1.5336, -0.0870,  1.4858,  1.0108, -0.4441,\n",
            "           1.3633,  0.1705,  0.8078,  0.1426, -0.9014,  0.8385, -0.6375,\n",
            "          -0.3299,  0.5141],\n",
            "         [ 0.0000, -0.0000, -0.0000,  0.0000,  0.0000, -0.0000, -0.0000,\n",
            "          -0.0000,  0.0000, -0.0000, -0.0000,  0.0000, -0.0000,  0.0000,\n",
            "          -0.0000,  0.0000],\n",
            "         [ 0.0000, -0.0000, -0.0000,  0.0000,  0.0000, -0.0000, -0.0000,\n",
            "          -0.0000,  0.0000, -0.0000, -0.0000,  0.0000, -0.0000,  0.0000,\n",
            "          -0.0000,  0.0000]],\n",
            "\n",
            "        [[-0.1769,  0.0370, -1.5215, -0.6729,  0.7768, -0.7116,  1.1419,\n",
            "          -0.5748, -0.1958,  0.8004,  1.2566, -0.4445, -0.3126,  1.4015,\n",
            "          -0.9406,  0.1729],\n",
            "         [ 0.0000, -0.0000, -0.0000,  0.0000,  0.0000, -0.0000, -0.0000,\n",
            "          -0.0000,  0.0000, -0.0000, -0.0000,  0.0000, -0.0000,  0.0000,\n",
            "          -0.0000,  0.0000],\n",
            "         [ 0.0000, -0.0000, -0.0000,  0.0000,  0.0000, -0.0000, -0.0000,\n",
            "          -0.0000,  0.0000, -0.0000, -0.0000,  0.0000, -0.0000,  0.0000,\n",
            "          -0.0000,  0.0000]],\n",
            "\n",
            "        [[ 0.0000, -0.0000, -0.0000,  0.0000,  0.0000, -0.0000, -0.0000,\n",
            "          -0.0000,  0.0000, -0.0000, -0.0000,  0.0000, -0.0000,  0.0000,\n",
            "          -0.0000,  0.0000],\n",
            "         [ 0.0000, -0.0000, -0.0000,  0.0000,  0.0000, -0.0000, -0.0000,\n",
            "          -0.0000,  0.0000, -0.0000, -0.0000,  0.0000, -0.0000,  0.0000,\n",
            "          -0.0000,  0.0000],\n",
            "         [ 0.0000, -0.0000, -0.0000,  0.0000,  0.0000, -0.0000, -0.0000,\n",
            "          -0.0000,  0.0000, -0.0000, -0.0000,  0.0000, -0.0000,  0.0000,\n",
            "          -0.0000,  0.0000]]])\n"
          ],
          "name": "stdout"
        }
      ]
    },
    {
      "cell_type": "markdown",
      "metadata": {
        "id": "3bfb58c3"
      },
      "source": [
        "Step 5c: Scale each of the participating neighbor by its edge weight\n",
        "\n",
        "$\\mathbf{W}^{(l)}_{int} h^{(l-1)}_j \\bigodot E_{ij}$"
      ],
      "id": "3bfb58c3"
    },
    {
      "cell_type": "code",
      "metadata": {
        "id": "6fad5be9",
        "outputId": "6b8d8cd4-1782-4f0f-c2e1-eda07407ef3c",
        "colab": {
          "base_uri": "https://localhost:8080/"
        }
      },
      "source": [
        "Zn_inter_step = node_Wn_int[int_indices] * int_part * int_edges\n",
        "\n",
        "print(Zn_inter_step.shape)\n",
        "print(Zn_inter_step)"
      ],
      "id": "6fad5be9",
      "execution_count": 12,
      "outputs": [
        {
          "output_type": "stream",
          "text": [
            "torch.Size([4, 3, 16])\n",
            "tensor([[[-1.5925e-01,  3.3279e-02, -1.3694e+00, -6.0565e-01,  6.9913e-01,\n",
            "          -6.4048e-01,  1.0277e+00, -5.1729e-01, -1.7620e-01,  7.2036e-01,\n",
            "           1.1309e+00, -4.0004e-01, -2.8137e-01,  1.2614e+00, -8.4652e-01,\n",
            "           1.5560e-01],\n",
            "         [-1.0312e-01, -1.1151e-01, -1.4003e-01, -3.1762e-02,  1.0650e-01,\n",
            "           2.6341e-01, -3.6827e-01, -1.6334e-01, -8.6445e-02, -9.2382e-02,\n",
            "          -8.8785e-02, -8.8521e-04, -2.3755e-01, -3.3165e-01, -4.1102e-02,\n",
            "          -2.8014e-01],\n",
            "         [-0.0000e+00,  0.0000e+00,  0.0000e+00, -0.0000e+00, -0.0000e+00,\n",
            "           0.0000e+00,  0.0000e+00,  0.0000e+00, -0.0000e+00,  0.0000e+00,\n",
            "           0.0000e+00, -0.0000e+00,  0.0000e+00, -0.0000e+00,  0.0000e+00,\n",
            "          -0.0000e+00]],\n",
            "\n",
            "        [[ 2.3239e-01,  4.3966e-02,  1.5336e-01, -8.7044e-03,  1.4858e-01,\n",
            "           1.0108e-01, -4.4415e-02,  1.3633e-01,  1.7045e-02,  8.0783e-02,\n",
            "           1.4256e-02, -9.0138e-02,  8.3851e-02, -6.3753e-02, -3.2989e-02,\n",
            "           5.1409e-02],\n",
            "         [-0.0000e+00,  0.0000e+00,  0.0000e+00, -0.0000e+00, -0.0000e+00,\n",
            "           0.0000e+00,  0.0000e+00,  0.0000e+00, -0.0000e+00,  0.0000e+00,\n",
            "           0.0000e+00, -0.0000e+00,  0.0000e+00, -0.0000e+00,  0.0000e+00,\n",
            "          -0.0000e+00],\n",
            "         [-0.0000e+00,  0.0000e+00,  0.0000e+00, -0.0000e+00, -0.0000e+00,\n",
            "           0.0000e+00,  0.0000e+00,  0.0000e+00, -0.0000e+00,  0.0000e+00,\n",
            "           0.0000e+00, -0.0000e+00,  0.0000e+00, -0.0000e+00,  0.0000e+00,\n",
            "          -0.0000e+00]],\n",
            "\n",
            "        [[-8.8474e-02,  1.8489e-02, -7.6077e-01, -3.3647e-01,  3.8840e-01,\n",
            "          -3.5582e-01,  5.7093e-01, -2.8739e-01, -9.7886e-02,  4.0020e-01,\n",
            "           6.2830e-01, -2.2224e-01, -1.5632e-01,  7.0077e-01, -4.7029e-01,\n",
            "           8.6444e-02],\n",
            "         [-0.0000e+00,  0.0000e+00,  0.0000e+00, -0.0000e+00, -0.0000e+00,\n",
            "           0.0000e+00,  0.0000e+00,  0.0000e+00, -0.0000e+00,  0.0000e+00,\n",
            "           0.0000e+00, -0.0000e+00,  0.0000e+00, -0.0000e+00,  0.0000e+00,\n",
            "          -0.0000e+00],\n",
            "         [-0.0000e+00,  0.0000e+00,  0.0000e+00, -0.0000e+00, -0.0000e+00,\n",
            "           0.0000e+00,  0.0000e+00,  0.0000e+00, -0.0000e+00,  0.0000e+00,\n",
            "           0.0000e+00, -0.0000e+00,  0.0000e+00, -0.0000e+00,  0.0000e+00,\n",
            "          -0.0000e+00]],\n",
            "\n",
            "        [[-0.0000e+00,  0.0000e+00,  0.0000e+00, -0.0000e+00, -0.0000e+00,\n",
            "           0.0000e+00,  0.0000e+00,  0.0000e+00, -0.0000e+00,  0.0000e+00,\n",
            "           0.0000e+00, -0.0000e+00,  0.0000e+00, -0.0000e+00,  0.0000e+00,\n",
            "          -0.0000e+00],\n",
            "         [-0.0000e+00,  0.0000e+00,  0.0000e+00, -0.0000e+00, -0.0000e+00,\n",
            "           0.0000e+00,  0.0000e+00,  0.0000e+00, -0.0000e+00,  0.0000e+00,\n",
            "           0.0000e+00, -0.0000e+00,  0.0000e+00, -0.0000e+00,  0.0000e+00,\n",
            "          -0.0000e+00],\n",
            "         [-0.0000e+00,  0.0000e+00,  0.0000e+00, -0.0000e+00, -0.0000e+00,\n",
            "           0.0000e+00,  0.0000e+00,  0.0000e+00, -0.0000e+00,  0.0000e+00,\n",
            "           0.0000e+00, -0.0000e+00,  0.0000e+00, -0.0000e+00,  0.0000e+00,\n",
            "          -0.0000e+00]]])\n"
          ],
          "name": "stdout"
        }
      ]
    },
    {
      "cell_type": "markdown",
      "metadata": {
        "id": "a42a587c"
      },
      "source": [
        "Step 5d: Sum all the neighbors of an atom\n",
        "\n",
        "$\\sum_{j \\epsilon N_i^{(int)}} \\mathbf{W}^{(l)}_{int} h^{(l-1)}_j \\bigodot E_{ij}$"
      ],
      "id": "a42a587c"
    },
    {
      "cell_type": "code",
      "metadata": {
        "id": "aac47740",
        "outputId": "f4881d6a-7661-48a6-f515-0de8b66fa9a8",
        "colab": {
          "base_uri": "https://localhost:8080/"
        }
      },
      "source": [
        "Zn_inter_step = torch.sum(node_Wn_int[int_indices] * int_part * int_edges, 1)\n",
        "\n",
        "print(Zn_inter_step.shape)\n",
        "print(Zn_inter_step)"
      ],
      "id": "aac47740",
      "execution_count": 13,
      "outputs": [
        {
          "output_type": "stream",
          "text": [
            "torch.Size([4, 16])\n",
            "tensor([[-0.2624, -0.0782, -1.5094, -0.6374,  0.8056, -0.3771,  0.6594, -0.6806,\n",
            "         -0.2626,  0.6280,  1.0422, -0.4009, -0.5189,  0.9297, -0.8876, -0.1245],\n",
            "        [ 0.2324,  0.0440,  0.1534, -0.0087,  0.1486,  0.1011, -0.0444,  0.1363,\n",
            "          0.0170,  0.0808,  0.0143, -0.0901,  0.0839, -0.0638, -0.0330,  0.0514],\n",
            "        [-0.0885,  0.0185, -0.7608, -0.3365,  0.3884, -0.3558,  0.5709, -0.2874,\n",
            "         -0.0979,  0.4002,  0.6283, -0.2222, -0.1563,  0.7008, -0.4703,  0.0864],\n",
            "        [ 0.0000,  0.0000,  0.0000,  0.0000,  0.0000,  0.0000,  0.0000,  0.0000,\n",
            "          0.0000,  0.0000,  0.0000,  0.0000,  0.0000,  0.0000,  0.0000,  0.0000]])\n"
          ],
          "name": "stdout"
        }
      ]
    },
    {
      "cell_type": "markdown",
      "metadata": {
        "id": "32b3bc37"
      },
      "source": [
        "Step 5e: Divide with the number of atoms in interface graph"
      ],
      "id": "32b3bc37"
    },
    {
      "cell_type": "markdown",
      "metadata": {
        "id": "e4bfc250"
      },
      "source": [
        "$\\frac{1}{|N_i^{(int)}|}\\sum_{j \\epsilon N_i^{(int)}} \\mathbf{W}^{(l)}_{int} h^{(l-1)}_j \\bigodot E_{ij} $"
      ],
      "id": "e4bfc250"
    },
    {
      "cell_type": "code",
      "metadata": {
        "id": "77ec9a61",
        "outputId": "c7f20ecd-37a6-42a4-a2d2-5eafa24d9d6c",
        "colab": {
          "base_uri": "https://localhost:8080/"
        }
      },
      "source": [
        "Zn_inter = torch.sum(node_Wn_int[int_indices] * int_part * int_edges, 1) / no_of_neighs_int\n",
        "\n",
        "print(Zn_inter.shape)\n",
        "print(Zn_inter)"
      ],
      "id": "77ec9a61",
      "execution_count": 14,
      "outputs": [
        {
          "output_type": "stream",
          "text": [
            "torch.Size([4, 16])\n",
            "tensor([[-0.1312, -0.0391, -0.7547, -0.3187,  0.4028, -0.1885,  0.3297, -0.3403,\n",
            "         -0.1313,  0.3140,  0.5211, -0.2005, -0.2595,  0.4649, -0.4438, -0.0623],\n",
            "        [ 0.2324,  0.0440,  0.1534, -0.0087,  0.1486,  0.1011, -0.0444,  0.1363,\n",
            "          0.0170,  0.0808,  0.0143, -0.0901,  0.0839, -0.0638, -0.0330,  0.0514],\n",
            "        [-0.0885,  0.0185, -0.7608, -0.3365,  0.3884, -0.3558,  0.5709, -0.2874,\n",
            "         -0.0979,  0.4002,  0.6283, -0.2222, -0.1563,  0.7008, -0.4703,  0.0864],\n",
            "        [ 0.0000,  0.0000,  0.0000,  0.0000,  0.0000,  0.0000,  0.0000,  0.0000,\n",
            "          0.0000,  0.0000,  0.0000,  0.0000,  0.0000,  0.0000,  0.0000,  0.0000]])\n"
          ],
          "name": "stdout"
        }
      ]
    },
    {
      "cell_type": "markdown",
      "metadata": {
        "id": "b380a035"
      },
      "source": [
        "### GCN Layer code"
      ],
      "id": "b380a035"
    },
    {
      "cell_type": "code",
      "metadata": {
        "id": "826c61bd"
      },
      "source": [
        "class GCN_layer(nn.Module):\n",
        "\n",
        "    def __init__(self, v_feats, filters, dropout=0.1, bias=True, trainable=True, **kwargs):\n",
        "\n",
        "        super(GCN_layer, self).__init__()\n",
        "\n",
        "        self.v_feats = v_feats\n",
        "        self.filters = filters\n",
        "        self.dropout= dropout\n",
        "        self.bias = bias\n",
        "        self.trainable = trainable\n",
        "        \n",
        "        use_cuda = torch.cuda.is_available()\n",
        "        self.device = torch.device(\"cuda:0\" if use_cuda else \"cpu\")\n",
        "        \n",
        "        # Define non-linear function\n",
        "        self.non_lin = nn.LeakyReLU()\n",
        "\n",
        "        # Initialize dropout\n",
        "        self.drop_layer = nn.Dropout(p=self.dropout)\n",
        "       \n",
        "        # Initialize learnable parameters\n",
        "        self.Wvc = nn.Parameter(\n",
        "                    init.kaiming_uniform_(\n",
        "                        torch.randn(self.v_feats, self.filters, requires_grad=self.trainable))\n",
        "                            .type(torch.float).to(self.device))  # (v_dims, filters)\n",
        "        self.Wvn_int = nn.Parameter(\n",
        "                        init.kaiming_uniform_(\n",
        "                            torch.randn(self.v_feats, self.filters, requires_grad=self.trainable))\n",
        "                                .type(torch.float).to(self.device))  # (v_dims, filters)\n",
        "        self.Wvn_prot = nn.Parameter(\n",
        "                        init.kaiming_uniform_(\n",
        "                            torch.randn(self.v_feats, self.filters, requires_grad=self.trainable))\n",
        "                                .type(torch.float).to(self.device))  # (v_dims, filters)\n",
        "        self.bv = nn.Parameter(\n",
        "                        torch.zeros(self.filters, requires_grad=self.trainable)\n",
        "                            .type(torch.float).to(self.device))\n",
        "        \n",
        "        \n",
        "    def forward(self, x):\n",
        "\n",
        "        node_feat, prot_indices, int_indices, prot_edges, int_edges = x\n",
        "\n",
        "        # generate center node signals\n",
        "        Zc = torch.matmul(node_feat, self.Wvc)  # (n_verts, filters)\n",
        "\n",
        "        # create neighbor signals\n",
        "        v_Wvn_int = torch.matmul(node_feat, self.Wvn_int)  # (n_verts, filters)\n",
        "        v_Wvn_prot = torch.matmul(node_feat, self.Wvn_prot)  # (n_verts, filters)\n",
        "        \n",
        "        # Find participating neighbors of the interface and protein graph in Graph Convolution \n",
        "        int_part = torch.unsqueeze(int_indices > -1, 2).type(torch.float)\n",
        "        prot_part = torch.unsqueeze(prot_indices > -1, 2).type(torch.float)\n",
        "\n",
        "        # Find the number of neighbors per atom\n",
        "        no_of_neighs_int = torch.sum(int_indices > -1, 1).unsqueeze(1).to(self.device).type(torch.float)\n",
        "        no_of_neighs_prot = torch.sum(prot_indices > -1, 1).unsqueeze(1).to(self.device).type(torch.float)\n",
        "        no_of_neighs_int[no_of_neighs_int == 0] = 1\n",
        "        no_of_neighs_prot[no_of_neighs_prot == 0] = 1\n",
        "        \n",
        "        # Expand interface and neighborh edge matrices to allow scalar multiplication\n",
        "        if(len(int_edges.size()) != 3):\n",
        "            int_edges = torch.unsqueeze(int_edges, 2)\n",
        "            prot_edges = torch.unsqueeze(prot_edges, 2)\n",
        "\n",
        "        # Generate neighbor signals w.r.t the interface and protein graph\n",
        "        Zn_inter = torch.sum(v_Wvn_int[int_indices] * int_part * int_edges, 1) / no_of_neighs_int\n",
        "        Zn_prot = torch.sum(v_Wvn_prot[prot_indices] * prot_part * prot_edges, 1) / no_of_neighs_prot\n",
        "\n",
        "        # Combine central and neighbor signals\n",
        "        Z = Zc + Zn_inter + Zn_prot\n",
        "\n",
        "        # Add bias\n",
        "        if self.bias:\n",
        "            Z += self.bv\n",
        "\n",
        "        # Apply activation function\n",
        "        h = self.non_lin(Z)\n",
        "\n",
        "        # Apply dropout\n",
        "        if self.dropout:\n",
        "            h = self.drop_layer(h)\n",
        "\n",
        "\n",
        "        return h, prot_indices, int_indices, prot_edges, int_edges"
      ],
      "id": "826c61bd",
      "execution_count": 15,
      "outputs": []
    },
    {
      "cell_type": "markdown",
      "metadata": {
        "id": "d029d4b4"
      },
      "source": [
        "## Define Graph Neural network"
      ],
      "id": "d029d4b4"
    },
    {
      "cell_type": "code",
      "metadata": {
        "id": "f3f6b4de"
      },
      "source": [
        "class GNN(torch.nn.Module):\n",
        "    \"\"\"\n",
        "        GCN + Sum unit pooling + L1-loss\n",
        "    \"\"\"\n",
        "    def __init__(self):\n",
        "        super(GNN, self).__init__()\n",
        "\n",
        "        # Define neural network layers\n",
        "        self.conv1 = GCN_layer(v_feats=11, filters=16, dropout=0.1)\n",
        "        self.conv2 = GCN_layer(v_feats=16, filters=32, dropout=0.1)\n",
        "        self.conv3 = GCN_layer(v_feats=32, filters=64, dropout=0.1)\n",
        "        self.dense = Dense(in_dims=64, out_dims=1, nonlin=\"linear\")\n",
        "\n",
        "        # Define optimizer\n",
        "        self.optimizer = optim.Adam(self.parameters(), lr=0.01, weight_decay=0.0001)\n",
        "\n",
        "    def forward(self, x):\n",
        "        \n",
        "        # GCN layers\n",
        "        x = self.conv1(x)\n",
        "        x = self.conv2(x)\n",
        "        x = self.conv3(x)\n",
        "        x = x[0]\n",
        "        # each row of x is now a feature vector.\n",
        "\n",
        "        # Graph pooling\n",
        "        x = torch.sum(x, 0).view(1, -1)\n",
        "        x = F.normalize(x)\n",
        "\n",
        "        # Dense layer\n",
        "        x = self.dense(x)\n",
        "        x = torch.squeeze(x, 1)\n",
        "\n",
        "        return x\n",
        "\n",
        "    def loss(self, output, target, reduction='mean'):\n",
        "        # Define loss function\n",
        "        return F.l1_loss(output, target, reduction=reduction)"
      ],
      "id": "f3f6b4de",
      "execution_count": 16,
      "outputs": []
    },
    {
      "cell_type": "markdown",
      "metadata": {
        "id": "710e09f6"
      },
      "source": [
        "## Initialize Graph Neural Network"
      ],
      "id": "710e09f6"
    },
    {
      "cell_type": "code",
      "metadata": {
        "id": "c67b07c0"
      },
      "source": [
        "model = GNN().to(device)"
      ],
      "id": "c67b07c0",
      "execution_count": 17,
      "outputs": []
    },
    {
      "cell_type": "markdown",
      "metadata": {
        "id": "eec8f9e8"
      },
      "source": [
        "## Initialize PyTorch data loader and data sampler"
      ],
      "id": "eec8f9e8"
    },
    {
      "cell_type": "code",
      "metadata": {
        "id": "7fb132c1",
        "outputId": "879353b2-0298-49f3-9c85-c43814a3c788",
        "colab": {
          "base_uri": "https://localhost:8080/"
        }
      },
      "source": [
        "dataset_path = \"data\"\n",
        "\n",
        "# Train dataset generator - training\n",
        "train_dataset = Dataset(dataset_path, \"train\")\n",
        "\n",
        "train_params = {'sampler': CustomSampler(batch_complexes = 2,\n",
        "                                   decoys_per_complex = 50,\n",
        "                                   dataset_path = dataset_path,\n",
        "                                   dataset_cat = \"train\",\n",
        "                                   random_sample = True),\n",
        "          'num_workers': 0,\n",
        "          'collate_fn' : lambda x: x[0]}\n",
        "training_generator = data.DataLoader(train_dataset, **train_params)\n",
        "\n",
        "# Train dataset generator - testing\n",
        "train_params = {'sampler': CustomSampler(batch_complexes = 2,\n",
        "                                   decoys_per_complex = 300,\n",
        "                                   dataset_path = dataset_path,\n",
        "                                   dataset_cat = \"train\",\n",
        "                                   verbose=False),\n",
        "          'num_workers': 0,\n",
        "          'collate_fn' : lambda x: x[0]}\n",
        "test_generator_train_set = data.DataLoader(train_dataset, **train_params)\n",
        "\n",
        "# Test dataset generator\n",
        "test_dataset = Dataset(dataset_path, \"test\")\n",
        "test_params = {'sampler': CustomSampler(batch_complexes = 2,\n",
        "                                   decoys_per_complex = 300,\n",
        "                                   dataset_path = dataset_path,\n",
        "                                   dataset_cat = \"test\"),\n",
        "          'num_workers': 0,\n",
        "          'collate_fn' : lambda x: x[0]}\n",
        "test_generator_test_set = data.DataLoader(test_dataset, **test_params)"
      ],
      "id": "7fb132c1",
      "execution_count": 18,
      "outputs": [
        {
          "output_type": "stream",
          "text": [
            "No. of train complexes: 3\n",
            "No. of test complexes: 2\n"
          ],
          "name": "stdout"
        }
      ]
    },
    {
      "cell_type": "markdown",
      "metadata": {
        "id": "9819549a"
      },
      "source": [
        "## Train model"
      ],
      "id": "9819549a"
    },
    {
      "cell_type": "code",
      "metadata": {
        "id": "e0d59a1f",
        "outputId": "bb6f9d17-9c00-410c-d8b9-004019ed504d",
        "colab": {
          "base_uri": "https://localhost:8080/"
        }
      },
      "source": [
        "epochs = 10\n",
        "mini_batches_per_epoch = 30\n",
        "\n",
        "loss = []\n",
        "\n",
        "for epoch in range(0, epochs):\n",
        "    \n",
        "    loss_ = train(model, device, training_generator, model.optimizer, epoch, mini_batches_per_epoch)\n",
        "    \n",
        "    loss.append(loss_)\n",
        "    \n",
        "    print(\"Epoch \" + str(epoch+1)+ \" loss : \" + str(loss_))\n",
        "    "
      ],
      "id": "e0d59a1f",
      "execution_count": 19,
      "outputs": [
        {
          "output_type": "stream",
          "text": [
            "Epoch 1 loss : 1.75940603017807\n",
            "Epoch 2 loss : 1.403956413269043\n",
            "Epoch 3 loss : 0.24477334320545197\n",
            "Epoch 4 loss : 0.2959727942943573\n",
            "Epoch 5 loss : 0.12984321638941765\n",
            "Epoch 6 loss : 0.091643787920475\n",
            "Epoch 7 loss : 0.13552726432681084\n",
            "Epoch 8 loss : 0.11148318462073803\n",
            "Epoch 9 loss : 0.17923108488321304\n",
            "Epoch 10 loss : 0.15387709438800812\n"
          ],
          "name": "stdout"
        }
      ]
    },
    {
      "cell_type": "markdown",
      "metadata": {
        "id": "4e40c945"
      },
      "source": [
        "## Plot loss function"
      ],
      "id": "4e40c945"
    },
    {
      "cell_type": "code",
      "metadata": {
        "id": "0bd7e019",
        "outputId": "4722a540-65c6-4ff5-c6e9-ae2418d46719",
        "colab": {
          "base_uri": "https://localhost:8080/",
          "height": 279
        }
      },
      "source": [
        "epoch_list = list(range(1, epochs+1))\n",
        "epoch_losses = list(zip(epoch_list, loss))\n",
        "\n",
        "loss_df = pd.DataFrame(epoch_losses, columns=[\"Epoch\", \"Train loss\"])\n",
        "\n",
        "lines = loss_df.plot.line(x=\"Epoch\", y=\"Train loss\")\n"
      ],
      "id": "0bd7e019",
      "execution_count": 20,
      "outputs": [
        {
          "output_type": "display_data",
          "data": {
            "image/png": "[encoded data removed]",
            "text/plain": [
              "<Figure size 432x288 with 1 Axes>"
            ]
          },
          "metadata": {
            "needs_background": "light"
          }
        }
      ]
    },
    {
      "cell_type": "markdown",
      "metadata": {
        "id": "9d41fe96"
      },
      "source": [
        "## Test model"
      ],
      "id": "9d41fe96"
    },
    {
      "cell_type": "code",
      "metadata": {
        "id": "374da1da"
      },
      "source": [
        "scores_dockq_train = test(model, device, test_generator_train_set, \"train\")\n",
        "scores_dockq_test = test(model, device, test_generator_test_set, \"test\")"
      ],
      "id": "374da1da",
      "execution_count": 21,
      "outputs": []
    },
    {
      "cell_type": "markdown",
      "metadata": {
        "id": "8e16ed3c"
      },
      "source": [
        "### Train complex 1 results"
      ],
      "id": "8e16ed3c"
    },
    {
      "cell_type": "code",
      "metadata": {
        "id": "4b25f5b3",
        "outputId": "a7cb21fc-6e57-4441-e486-4a9f5ed2f573",
        "colab": {
          "base_uri": "https://localhost:8080/",
          "height": 317
        }
      },
      "source": [
        "show_results(\"1bvn\", scores_dockq_train)"
      ],
      "id": "4b25f5b3",
      "execution_count": 22,
      "outputs": [
        {
          "output_type": "display_data",
          "data": {
            "image/png": "[encoded data removed]",
            "text/plain": [
              "<Figure size 576x360 with 1 Axes>"
            ]
          },
          "metadata": {
            "needs_background": "light"
          }
        }
      ]
    },
    {
      "cell_type": "code",
      "metadata": {
        "id": "b78a521c",
        "outputId": "1f2d65f9-7669-4a95-858e-be33cb73006f",
        "colab": {
          "base_uri": "https://localhost:8080/",
          "height": 319
        }
      },
      "source": [
        "show_results(\"1f34\", scores_dockq_train)"
      ],
      "id": "b78a521c",
      "execution_count": 23,
      "outputs": [
        {
          "output_type": "display_data",
          "data": {
            "image/png": "[encoded data removed]",
            "text/plain": [
              "<Figure size 576x360 with 1 Axes>"
            ]
          },
          "metadata": {
            "needs_background": "light"
          }
        }
      ]
    },
    {
      "cell_type": "code",
      "metadata": {
        "id": "7a61ddf7",
        "outputId": "23b20c60-2963-4781-f6ee-25b5610d25b5",
        "colab": {
          "base_uri": "https://localhost:8080/",
          "height": 320
        }
      },
      "source": [
        "show_results(\"1pvh\", scores_dockq_train)"
      ],
      "id": "7a61ddf7",
      "execution_count": 24,
      "outputs": [
        {
          "output_type": "display_data",
          "data": {
            "image/png": "[encoded data removed]",
            "text/plain": [
              "<Figure size 576x360 with 1 Axes>"
            ]
          },
          "metadata": {
            "needs_background": "light"
          }
        }
      ]
    },
    {
      "cell_type": "markdown",
      "metadata": {
        "id": "fba2cfd6"
      },
      "source": [
        "### Test complex 1 results"
      ],
      "id": "fba2cfd6"
    },
    {
      "cell_type": "code",
      "metadata": {
        "id": "8811f9ee",
        "outputId": "c823c25e-5a92-42de-9f74-eddedfc80446",
        "colab": {
          "base_uri": "https://localhost:8080/",
          "height": 317
        }
      },
      "source": [
        "show_results(\"1b6c\", scores_dockq_test)"
      ],
      "id": "8811f9ee",
      "execution_count": 25,
      "outputs": [
        {
          "output_type": "display_data",
          "data": {
            "image/png": "[encoded data removed]",
            "text/plain": [
              "<Figure size 576x360 with 1 Axes>"
            ]
          },
          "metadata": {
            "needs_background": "light"
          }
        }
      ]
    },
    {
      "cell_type": "markdown",
      "metadata": {
        "id": "7418d0f4"
      },
      "source": [
        "### Test complex 2 results"
      ],
      "id": "7418d0f4"
    },
    {
      "cell_type": "code",
      "metadata": {
        "id": "490d8de4",
        "outputId": "c4e235b1-0978-404c-ba4c-d3a03256214e",
        "colab": {
          "base_uri": "https://localhost:8080/",
          "height": 317
        }
      },
      "source": [
        "show_results(\"1e6e\", scores_dockq_test)"
      ],
      "id": "490d8de4",
      "execution_count": 26,
      "outputs": [
        {
          "output_type": "display_data",
          "data": {
            "image/png": "[encoded data removed]",
            "text/plain": [
              "<Figure size 576x360 with 1 Axes>"
            ]
          },
          "metadata": {
            "needs_background": "light"
          }
        }
      ]
    }
  ]
}